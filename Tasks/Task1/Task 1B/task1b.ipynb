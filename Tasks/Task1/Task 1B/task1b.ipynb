{
 "cells": [
  {
   "cell_type": "code",
   "execution_count": 1,
   "id": "96bfde67",
   "metadata": {
    "_cell_guid": "b1076dfc-b9ad-4769-8c92-a6c4dae69d19",
    "_uuid": "8f2839f25d086af736a60e9eeb907d3b93b6e0e5",
    "execution": {
     "iopub.execute_input": "2024-10-09T17:22:34.678592Z",
     "iopub.status.busy": "2024-10-09T17:22:34.678212Z",
     "iopub.status.idle": "2024-10-09T17:22:35.400477Z",
     "shell.execute_reply": "2024-10-09T17:22:35.399600Z"
    },
    "papermill": {
     "duration": 0.73549,
     "end_time": "2024-10-09T17:22:35.402959",
     "exception": false,
     "start_time": "2024-10-09T17:22:34.667469",
     "status": "completed"
    },
    "tags": []
   },
   "outputs": [],
   "source": [
    "# This Python 3 environment comes with many helpful analytics libraries installed\n",
    "# It is defined by the kaggle/python Docker image: https://github.com/kaggle/docker-python\n",
    "# For example, here's several helpful packages to load\n",
    "\n",
    "import numpy as np # linear algebra\n",
    "import pandas as pd # data processing, CSV file I/O (e.g. pd.read_csv)\n",
    "\n",
    "# Input data files are available in the read-only \"../input/\" directory\n",
    "# For example, running this (by clicking run or pressing Shift+Enter) will list all files under the input directory\n",
    "\n",
    "import os\n",
    "# for dirname, _, filenames in os.walk('/kaggle/input'):\n",
    "#     for filename in filenames:\n",
    "#         print(os.path.join(dirname, filename))\n",
    "\n",
    "# You can write up to 20GB to the current directory (/kaggle/working/) that gets preserved as output when you create a version using \"Save & Run All\" \n",
    "# You can also write temporary files to /kaggle/temp/, but they won't be saved outside of the current session"
   ]
  },
  {
   "cell_type": "code",
   "execution_count": 2,
   "id": "56970d79",
   "metadata": {
    "execution": {
     "iopub.execute_input": "2024-10-09T17:22:35.425126Z",
     "iopub.status.busy": "2024-10-09T17:22:35.424197Z",
     "iopub.status.idle": "2024-10-09T17:22:37.336859Z",
     "shell.execute_reply": "2024-10-09T17:22:37.336059Z"
    },
    "papermill": {
     "duration": 1.925404,
     "end_time": "2024-10-09T17:22:37.339208",
     "exception": false,
     "start_time": "2024-10-09T17:22:35.413804",
     "status": "completed"
    },
    "tags": []
   },
   "outputs": [],
   "source": [
    "import re\n",
    "from nltk.corpus import stopwords\n",
    "from nltk.stem import WordNetLemmatizer\n",
    "from sklearn.model_selection import train_test_split, GridSearchCV\n",
    "from sklearn.feature_extraction.text import TfidfVectorizer\n",
    "from sklearn.ensemble import RandomForestClassifier\n",
    "from sklearn.metrics import accuracy_score, classification_report"
   ]
  },
  {
   "cell_type": "code",
   "execution_count": 3,
   "id": "1d20951d",
   "metadata": {
    "execution": {
     "iopub.execute_input": "2024-10-09T17:22:37.357986Z",
     "iopub.status.busy": "2024-10-09T17:22:37.357512Z",
     "iopub.status.idle": "2024-10-09T17:22:37.645168Z",
     "shell.execute_reply": "2024-10-09T17:22:37.644264Z"
    },
    "papermill": {
     "duration": 0.299344,
     "end_time": "2024-10-09T17:22:37.647404",
     "exception": false,
     "start_time": "2024-10-09T17:22:37.348060",
     "status": "completed"
    },
    "tags": []
   },
   "outputs": [
    {
     "name": "stdout",
     "output_type": "stream",
     "text": [
      "[nltk_data] Downloading package wordnet to /usr/share/nltk_data...\n",
      "[nltk_data]   Package wordnet is already up-to-date!\n",
      "[nltk_data] Downloading package omw-1.4 to /usr/share/nltk_data...\n",
      "[nltk_data] Downloading package stopwords to /usr/share/nltk_data...\n",
      "[nltk_data]   Package stopwords is already up-to-date!\n"
     ]
    },
    {
     "data": {
      "text/plain": [
       "True"
      ]
     },
     "execution_count": 3,
     "metadata": {},
     "output_type": "execute_result"
    }
   ],
   "source": [
    "import nltk\n",
    "nltk.download('wordnet') \n",
    "nltk.download('omw-1.4')  \n",
    "nltk.download('stopwords') "
   ]
  },
  {
   "cell_type": "code",
   "execution_count": 4,
   "id": "40962129",
   "metadata": {
    "execution": {
     "iopub.execute_input": "2024-10-09T17:22:37.667181Z",
     "iopub.status.busy": "2024-10-09T17:22:37.666797Z",
     "iopub.status.idle": "2024-10-09T17:22:37.793271Z",
     "shell.execute_reply": "2024-10-09T17:22:37.792260Z"
    },
    "papermill": {
     "duration": 0.13898,
     "end_time": "2024-10-09T17:22:37.795669",
     "exception": false,
     "start_time": "2024-10-09T17:22:37.656689",
     "status": "completed"
    },
    "tags": []
   },
   "outputs": [],
   "source": [
    "train_data = pd.read_csv('/kaggle/input/wec-task-1b/news_train.csv')\n",
    "test_data = pd.read_csv('/kaggle/input/wec-task-1b/test.csv')"
   ]
  },
  {
   "cell_type": "code",
   "execution_count": 5,
   "id": "39cac6d4",
   "metadata": {
    "execution": {
     "iopub.execute_input": "2024-10-09T17:22:37.815480Z",
     "iopub.status.busy": "2024-10-09T17:22:37.815156Z",
     "iopub.status.idle": "2024-10-09T17:22:37.827695Z",
     "shell.execute_reply": "2024-10-09T17:22:37.826563Z"
    },
    "papermill": {
     "duration": 0.02473,
     "end_time": "2024-10-09T17:22:37.829908",
     "exception": false,
     "start_time": "2024-10-09T17:22:37.805178",
     "status": "completed"
    },
    "tags": []
   },
   "outputs": [
    {
     "name": "stdout",
     "output_type": "stream",
     "text": [
      "Missing values in training data:\n",
      "ID                0\n",
      "News_title        0\n",
      "News_headline    76\n",
      "Category          0\n",
      "dtype: int64\n"
     ]
    }
   ],
   "source": [
    "print(\"Missing values in training data:\")\n",
    "print(train_data.isnull().sum())"
   ]
  },
  {
   "cell_type": "code",
   "execution_count": 6,
   "id": "d3face10",
   "metadata": {
    "execution": {
     "iopub.execute_input": "2024-10-09T17:22:37.848746Z",
     "iopub.status.busy": "2024-10-09T17:22:37.848442Z",
     "iopub.status.idle": "2024-10-09T17:22:37.860575Z",
     "shell.execute_reply": "2024-10-09T17:22:37.859584Z"
    },
    "papermill": {
     "duration": 0.023818,
     "end_time": "2024-10-09T17:22:37.862589",
     "exception": false,
     "start_time": "2024-10-09T17:22:37.838771",
     "status": "completed"
    },
    "tags": []
   },
   "outputs": [],
   "source": [
    "train_data['News_headline'] = train_data['News_headline'].fillna('missing_headline')\n",
    "test_data['News_headline'] = test_data['News_headline'].fillna('missing_headline')"
   ]
  },
  {
   "cell_type": "code",
   "execution_count": 7,
   "id": "087bb1de",
   "metadata": {
    "execution": {
     "iopub.execute_input": "2024-10-09T17:22:37.883106Z",
     "iopub.status.busy": "2024-10-09T17:22:37.882772Z",
     "iopub.status.idle": "2024-10-09T17:22:37.889173Z",
     "shell.execute_reply": "2024-10-09T17:22:37.888466Z"
    },
    "papermill": {
     "duration": 0.018628,
     "end_time": "2024-10-09T17:22:37.891138",
     "exception": false,
     "start_time": "2024-10-09T17:22:37.872510",
     "status": "completed"
    },
    "tags": []
   },
   "outputs": [],
   "source": [
    "stop_words = set(stopwords.words('english'))\n",
    "lemmatizer = WordNetLemmatizer()"
   ]
  },
  {
   "cell_type": "code",
   "execution_count": 8,
   "id": "cf0bda61",
   "metadata": {
    "execution": {
     "iopub.execute_input": "2024-10-09T17:22:37.910439Z",
     "iopub.status.busy": "2024-10-09T17:22:37.910125Z",
     "iopub.status.idle": "2024-10-09T17:22:37.915791Z",
     "shell.execute_reply": "2024-10-09T17:22:37.914899Z"
    },
    "papermill": {
     "duration": 0.017565,
     "end_time": "2024-10-09T17:22:37.917726",
     "exception": false,
     "start_time": "2024-10-09T17:22:37.900161",
     "status": "completed"
    },
    "tags": []
   },
   "outputs": [],
   "source": [
    "def preprocess_text(text):\n",
    "    if isinstance(text, str):\n",
    "        # Lowercase the text\n",
    "        text = text.lower()\n",
    "        text = re.sub(r'\\W+', ' ', text)\n",
    "        text = re.sub(r'\\d+', '', text)\n",
    "        text = ' '.join([lemmatizer.lemmatize(word) for word in text.split() if word not in stop_words])\n",
    "    else:\n",
    "        text = ''  \n",
    "    return text"
   ]
  },
  {
   "cell_type": "code",
   "execution_count": 9,
   "id": "7db1e308",
   "metadata": {
    "execution": {
     "iopub.execute_input": "2024-10-09T17:22:37.937075Z",
     "iopub.status.busy": "2024-10-09T17:22:37.936724Z",
     "iopub.status.idle": "2024-10-09T17:22:37.952892Z",
     "shell.execute_reply": "2024-10-09T17:22:37.952214Z"
    },
    "papermill": {
     "duration": 0.027779,
     "end_time": "2024-10-09T17:22:37.954703",
     "exception": false,
     "start_time": "2024-10-09T17:22:37.926924",
     "status": "completed"
    },
    "tags": []
   },
   "outputs": [],
   "source": [
    "train_data['text'] = train_data['News_title'] + ' ' + train_data['News_headline']\n",
    "test_data['text'] = test_data['News_title'] + ' ' + test_data['News_headline']"
   ]
  },
  {
   "cell_type": "code",
   "execution_count": 10,
   "id": "52d0c411",
   "metadata": {
    "execution": {
     "iopub.execute_input": "2024-10-09T17:22:37.975140Z",
     "iopub.status.busy": "2024-10-09T17:22:37.974854Z",
     "iopub.status.idle": "2024-10-09T17:22:39.359824Z",
     "shell.execute_reply": "2024-10-09T17:22:39.358662Z"
    },
    "papermill": {
     "duration": 1.398584,
     "end_time": "2024-10-09T17:22:39.362232",
     "exception": false,
     "start_time": "2024-10-09T17:22:37.963648",
     "status": "completed"
    },
    "tags": []
   },
   "outputs": [
    {
     "name": "stdout",
     "output_type": "stream",
     "text": [
      "[nltk_data] Downloading package stopwords to /usr/share/nltk_data...\n",
      "[nltk_data]   Package stopwords is already up-to-date!\n",
      "[nltk_data] Downloading package wordnet to /usr/share/nltk_data...\n",
      "[nltk_data]   Package wordnet is already up-to-date!\n",
      "Archive:  /usr/share/nltk_data/corpora/wordnet.zip\r\n",
      "   creating: /usr/share/nltk_data/corpora/wordnet/\r\n",
      "  inflating: /usr/share/nltk_data/corpora/wordnet/lexnames  \r\n",
      "  inflating: /usr/share/nltk_data/corpora/wordnet/data.verb  \r\n",
      "  inflating: /usr/share/nltk_data/corpora/wordnet/index.adv  \r\n",
      "  inflating: /usr/share/nltk_data/corpora/wordnet/adv.exc  \r\n",
      "  inflating: /usr/share/nltk_data/corpora/wordnet/index.verb  \r\n",
      "  inflating: /usr/share/nltk_data/corpora/wordnet/cntlist.rev  \r\n",
      "  inflating: /usr/share/nltk_data/corpora/wordnet/data.adj  \r\n",
      "  inflating: /usr/share/nltk_data/corpora/wordnet/index.adj  \r\n",
      "  inflating: /usr/share/nltk_data/corpora/wordnet/LICENSE  \r\n",
      "  inflating: /usr/share/nltk_data/corpora/wordnet/citation.bib  \r\n",
      "  inflating: /usr/share/nltk_data/corpora/wordnet/noun.exc  \r\n",
      "  inflating: /usr/share/nltk_data/corpora/wordnet/verb.exc  \r\n",
      "  inflating: /usr/share/nltk_data/corpora/wordnet/README  \r\n",
      "  inflating: /usr/share/nltk_data/corpora/wordnet/index.sense  \r\n",
      "  inflating: /usr/share/nltk_data/corpora/wordnet/data.noun  \r\n",
      "  inflating: /usr/share/nltk_data/corpora/wordnet/data.adv  \r\n",
      "  inflating: /usr/share/nltk_data/corpora/wordnet/index.noun  \r\n",
      "  inflating: /usr/share/nltk_data/corpora/wordnet/adj.exc  \r\n"
     ]
    }
   ],
   "source": [
    "import nltk\n",
    "nltk.download('stopwords')\n",
    "nltk.download('wordnet')\n",
    "! unzip /usr/share/nltk_data/corpora/wordnet.zip -d /usr/share/nltk_data/corpora/"
   ]
  },
  {
   "cell_type": "code",
   "execution_count": 11,
   "id": "6a08daf3",
   "metadata": {
    "execution": {
     "iopub.execute_input": "2024-10-09T17:22:39.383150Z",
     "iopub.status.busy": "2024-10-09T17:22:39.382776Z",
     "iopub.status.idle": "2024-10-09T17:22:43.948774Z",
     "shell.execute_reply": "2024-10-09T17:22:43.947990Z"
    },
    "papermill": {
     "duration": 4.578936,
     "end_time": "2024-10-09T17:22:43.951138",
     "exception": false,
     "start_time": "2024-10-09T17:22:39.372202",
     "status": "completed"
    },
    "tags": []
   },
   "outputs": [],
   "source": [
    "train_data['clean_text'] = train_data['text'].apply(preprocess_text)\n",
    "test_data['clean_text'] = test_data['text'].apply(preprocess_text)"
   ]
  },
  {
   "cell_type": "code",
   "execution_count": 12,
   "id": "c9f36d1b",
   "metadata": {
    "execution": {
     "iopub.execute_input": "2024-10-09T17:22:43.973002Z",
     "iopub.status.busy": "2024-10-09T17:22:43.972640Z",
     "iopub.status.idle": "2024-10-09T17:22:44.050021Z",
     "shell.execute_reply": "2024-10-09T17:22:44.049289Z"
    },
    "papermill": {
     "duration": 0.090313,
     "end_time": "2024-10-09T17:22:44.051932",
     "exception": false,
     "start_time": "2024-10-09T17:22:43.961619",
     "status": "completed"
    },
    "tags": []
   },
   "outputs": [],
   "source": [
    "train_data['title_length'] = train_data['News_title'].apply(lambda x: len(x.split()) if isinstance(x, str) else 0)\n",
    "train_data['headline_length'] = train_data['News_headline'].apply(lambda x: len(x.split()) if isinstance(x, str) else 0)\n",
    "\n",
    "test_data['title_length'] = test_data['News_title'].apply(lambda x: len(x.split()) if isinstance(x, str) else 0)\n",
    "test_data['headline_length'] = test_data['News_headline'].apply(lambda x: len(x.split()) if isinstance(x, str) else 0)"
   ]
  },
  {
   "cell_type": "code",
   "execution_count": 13,
   "id": "2df1554f",
   "metadata": {
    "execution": {
     "iopub.execute_input": "2024-10-09T17:22:44.072744Z",
     "iopub.status.busy": "2024-10-09T17:22:44.072445Z",
     "iopub.status.idle": "2024-10-09T17:22:44.082177Z",
     "shell.execute_reply": "2024-10-09T17:22:44.081225Z"
    },
    "papermill": {
     "duration": 0.022342,
     "end_time": "2024-10-09T17:22:44.084033",
     "exception": false,
     "start_time": "2024-10-09T17:22:44.061691",
     "status": "completed"
    },
    "tags": []
   },
   "outputs": [],
   "source": [
    "category_mapping = {'Arts': 0, 'business': 1, 'humour': 2, 'politics': 3, 'sports': 4, 'tech': 5}\n",
    "y_train = train_data['Category'].map(category_mapping)"
   ]
  },
  {
   "cell_type": "code",
   "execution_count": 14,
   "id": "0d5037f0",
   "metadata": {
    "execution": {
     "iopub.execute_input": "2024-10-09T17:22:44.106635Z",
     "iopub.status.busy": "2024-10-09T17:22:44.104620Z",
     "iopub.status.idle": "2024-10-09T17:22:44.116317Z",
     "shell.execute_reply": "2024-10-09T17:22:44.115388Z"
    },
    "papermill": {
     "duration": 0.024637,
     "end_time": "2024-10-09T17:22:44.118385",
     "exception": false,
     "start_time": "2024-10-09T17:22:44.093748",
     "status": "completed"
    },
    "tags": []
   },
   "outputs": [],
   "source": [
    "X_train_split, X_val_split, y_train_split, y_val_split = train_test_split(\n",
    "    train_data['clean_text'], y_train, test_size=0.2, random_state=42\n",
    ")"
   ]
  },
  {
   "cell_type": "code",
   "execution_count": 15,
   "id": "e10549b2",
   "metadata": {
    "execution": {
     "iopub.execute_input": "2024-10-09T17:22:44.138152Z",
     "iopub.status.busy": "2024-10-09T17:22:44.137867Z",
     "iopub.status.idle": "2024-10-09T17:22:44.141938Z",
     "shell.execute_reply": "2024-10-09T17:22:44.141079Z"
    },
    "papermill": {
     "duration": 0.016169,
     "end_time": "2024-10-09T17:22:44.143914",
     "exception": false,
     "start_time": "2024-10-09T17:22:44.127745",
     "status": "completed"
    },
    "tags": []
   },
   "outputs": [],
   "source": [
    "# tfidf = TfidfVectorizer(max_features=5000)\n",
    "\n",
    "\n",
    "# X_train_tfidf = tfidf.fit_transform(X_train_split)\n",
    "\n",
    "\n",
    "# X_val_tfidf = tfidf.transform(X_val_split)  \n",
    "# X_test_tfidf = tfidf.transform(test_data['clean_text']) \n",
    "\n",
    "\n",
    "# tfidf = TfidfVectorizer(max_features=5000)\n",
    "# X_train = tfidf.fit_transform(train_data['clean_text'])\n",
    "# X_test = tfidf.transform(test_data['clean_text'])\n",
    "\n",
    "# tfidf = TfidfVectorizer(max_features=5000)\n",
    "# X_train = tfidf.fit_transform(train_data['clean_text'])\n",
    "# X_test = tfidf.transform(test_data['clean_text'])"
   ]
  },
  {
   "cell_type": "code",
   "execution_count": 16,
   "id": "7d116935",
   "metadata": {
    "execution": {
     "iopub.execute_input": "2024-10-09T17:22:44.163914Z",
     "iopub.status.busy": "2024-10-09T17:22:44.163222Z",
     "iopub.status.idle": "2024-10-09T17:22:44.167446Z",
     "shell.execute_reply": "2024-10-09T17:22:44.166582Z"
    },
    "papermill": {
     "duration": 0.016113,
     "end_time": "2024-10-09T17:22:44.169253",
     "exception": false,
     "start_time": "2024-10-09T17:22:44.153140",
     "status": "completed"
    },
    "tags": []
   },
   "outputs": [],
   "source": [
    "from sklearn.feature_extraction.text import CountVectorizer\n",
    "# Using Bag of Words (CountVectorizer)\n",
    "bow = CountVectorizer(max_features=5000)"
   ]
  },
  {
   "cell_type": "code",
   "execution_count": 17,
   "id": "37c680db",
   "metadata": {
    "execution": {
     "iopub.execute_input": "2024-10-09T17:22:44.189376Z",
     "iopub.status.busy": "2024-10-09T17:22:44.189100Z",
     "iopub.status.idle": "2024-10-09T17:22:44.676699Z",
     "shell.execute_reply": "2024-10-09T17:22:44.675847Z"
    },
    "papermill": {
     "duration": 0.500479,
     "end_time": "2024-10-09T17:22:44.679168",
     "exception": false,
     "start_time": "2024-10-09T17:22:44.178689",
     "status": "completed"
    },
    "tags": []
   },
   "outputs": [],
   "source": [
    "X_train_bow = bow.fit_transform(X_train_split)\n",
    "X_val_bow = bow.transform(X_val_split)\n",
    "X_test_bow = bow.transform(test_data['clean_text'])"
   ]
  },
  {
   "cell_type": "code",
   "execution_count": 18,
   "id": "69d8a345",
   "metadata": {
    "execution": {
     "iopub.execute_input": "2024-10-09T17:22:44.700476Z",
     "iopub.status.busy": "2024-10-09T17:22:44.699587Z",
     "iopub.status.idle": "2024-10-09T17:22:57.502957Z",
     "shell.execute_reply": "2024-10-09T17:22:57.501850Z"
    },
    "papermill": {
     "duration": 12.81659,
     "end_time": "2024-10-09T17:22:57.505630",
     "exception": false,
     "start_time": "2024-10-09T17:22:44.689040",
     "status": "completed"
    },
    "tags": []
   },
   "outputs": [
    {
     "name": "stdout",
     "output_type": "stream",
     "text": [
      "Requirement already satisfied: xgboost in /opt/conda/lib/python3.10/site-packages (2.0.3)\r\n",
      "Requirement already satisfied: numpy in /opt/conda/lib/python3.10/site-packages (from xgboost) (1.26.4)\r\n",
      "Requirement already satisfied: scipy in /opt/conda/lib/python3.10/site-packages (from xgboost) (1.14.1)\r\n"
     ]
    }
   ],
   "source": [
    "!pip install xgboost"
   ]
  },
  {
   "cell_type": "code",
   "execution_count": 19,
   "id": "3615a050",
   "metadata": {
    "execution": {
     "iopub.execute_input": "2024-10-09T17:22:57.527058Z",
     "iopub.status.busy": "2024-10-09T17:22:57.526558Z",
     "iopub.status.idle": "2024-10-09T17:22:57.531500Z",
     "shell.execute_reply": "2024-10-09T17:22:57.530574Z"
    },
    "papermill": {
     "duration": 0.017852,
     "end_time": "2024-10-09T17:22:57.533549",
     "exception": false,
     "start_time": "2024-10-09T17:22:57.515697",
     "status": "completed"
    },
    "tags": []
   },
   "outputs": [],
   "source": [
    "# rf_classifier = RandomForestClassifier(n_estimators=100, random_state=42)\n",
    "# rf_classifier.fit(X_train_tfidf, y_train_split)"
   ]
  },
  {
   "cell_type": "code",
   "execution_count": 20,
   "id": "fbfe333d",
   "metadata": {
    "execution": {
     "iopub.execute_input": "2024-10-09T17:22:57.555159Z",
     "iopub.status.busy": "2024-10-09T17:22:57.554266Z",
     "iopub.status.idle": "2024-10-09T17:22:57.726633Z",
     "shell.execute_reply": "2024-10-09T17:22:57.725702Z"
    },
    "papermill": {
     "duration": 0.185688,
     "end_time": "2024-10-09T17:22:57.729156",
     "exception": false,
     "start_time": "2024-10-09T17:22:57.543468",
     "status": "completed"
    },
    "tags": []
   },
   "outputs": [],
   "source": [
    "import xgboost as xgb"
   ]
  },
  {
   "cell_type": "code",
   "execution_count": 21,
   "id": "54748794",
   "metadata": {
    "execution": {
     "iopub.execute_input": "2024-10-09T17:22:57.756557Z",
     "iopub.status.busy": "2024-10-09T17:22:57.756244Z",
     "iopub.status.idle": "2024-10-09T17:22:57.762838Z",
     "shell.execute_reply": "2024-10-09T17:22:57.761863Z"
    },
    "papermill": {
     "duration": 0.022108,
     "end_time": "2024-10-09T17:22:57.764853",
     "exception": false,
     "start_time": "2024-10-09T17:22:57.742745",
     "status": "completed"
    },
    "tags": []
   },
   "outputs": [],
   "source": [
    "from sklearn.pipeline import Pipeline\n",
    "from sklearn.model_selection import GridSearchCV"
   ]
  },
  {
   "cell_type": "code",
   "execution_count": 22,
   "id": "a10a8a6a",
   "metadata": {
    "execution": {
     "iopub.execute_input": "2024-10-09T17:22:57.785457Z",
     "iopub.status.busy": "2024-10-09T17:22:57.784657Z",
     "iopub.status.idle": "2024-10-09T17:22:57.790083Z",
     "shell.execute_reply": "2024-10-09T17:22:57.789225Z"
    },
    "papermill": {
     "duration": 0.017935,
     "end_time": "2024-10-09T17:22:57.792097",
     "exception": false,
     "start_time": "2024-10-09T17:22:57.774162",
     "status": "completed"
    },
    "tags": []
   },
   "outputs": [],
   "source": [
    "# Create a pipeline that combines Bag of Words (CountVectorizer) with the XGBoost classifier\n",
    "pipeline = Pipeline([\n",
    "    ('bow', CountVectorizer(max_features=5000)),  # Bag of Words\n",
    "    ('xgb', xgb.XGBClassifier(objective='multi:softmax', num_class=6))  # XGBoost Classifier\n",
    "])"
   ]
  },
  {
   "cell_type": "code",
   "execution_count": 23,
   "id": "3751bf66",
   "metadata": {
    "execution": {
     "iopub.execute_input": "2024-10-09T17:22:57.812263Z",
     "iopub.status.busy": "2024-10-09T17:22:57.811894Z",
     "iopub.status.idle": "2024-10-09T17:22:57.909554Z",
     "shell.execute_reply": "2024-10-09T17:22:57.908663Z"
    },
    "papermill": {
     "duration": 0.110283,
     "end_time": "2024-10-09T17:22:57.911717",
     "exception": false,
     "start_time": "2024-10-09T17:22:57.801434",
     "status": "completed"
    },
    "tags": []
   },
   "outputs": [],
   "source": [
    "from skopt import BayesSearchCV\n",
    "search_space = {\n",
    "    'xgb__eta': (0.01, 0.5, 'log-uniform'),  # logarithmic scale\n",
    "    'xgb__max_depth': (3, 10),               # Integer values\n",
    "    'xgb__n_estimators': (50, 300),\n",
    "    'xgb__colsample_bytree': (0.5, 1.0)\n",
    "}"
   ]
  },
  {
   "cell_type": "code",
   "execution_count": 24,
   "id": "748ed2e5",
   "metadata": {
    "execution": {
     "iopub.execute_input": "2024-10-09T17:22:57.933382Z",
     "iopub.status.busy": "2024-10-09T17:22:57.932650Z",
     "iopub.status.idle": "2024-10-09T17:39:42.427650Z",
     "shell.execute_reply": "2024-10-09T17:39:42.426598Z"
    },
    "papermill": {
     "duration": 1004.517539,
     "end_time": "2024-10-09T17:39:42.439052",
     "exception": false,
     "start_time": "2024-10-09T17:22:57.921513",
     "status": "completed"
    },
    "tags": []
   },
   "outputs": [
    {
     "data": {
      "text/html": [
       "<style>#sk-container-id-1 {color: black;background-color: white;}#sk-container-id-1 pre{padding: 0;}#sk-container-id-1 div.sk-toggleable {background-color: white;}#sk-container-id-1 label.sk-toggleable__label {cursor: pointer;display: block;width: 100%;margin-bottom: 0;padding: 0.3em;box-sizing: border-box;text-align: center;}#sk-container-id-1 label.sk-toggleable__label-arrow:before {content: \"▸\";float: left;margin-right: 0.25em;color: #696969;}#sk-container-id-1 label.sk-toggleable__label-arrow:hover:before {color: black;}#sk-container-id-1 div.sk-estimator:hover label.sk-toggleable__label-arrow:before {color: black;}#sk-container-id-1 div.sk-toggleable__content {max-height: 0;max-width: 0;overflow: hidden;text-align: left;background-color: #f0f8ff;}#sk-container-id-1 div.sk-toggleable__content pre {margin: 0.2em;color: black;border-radius: 0.25em;background-color: #f0f8ff;}#sk-container-id-1 input.sk-toggleable__control:checked~div.sk-toggleable__content {max-height: 200px;max-width: 100%;overflow: auto;}#sk-container-id-1 input.sk-toggleable__control:checked~label.sk-toggleable__label-arrow:before {content: \"▾\";}#sk-container-id-1 div.sk-estimator input.sk-toggleable__control:checked~label.sk-toggleable__label {background-color: #d4ebff;}#sk-container-id-1 div.sk-label input.sk-toggleable__control:checked~label.sk-toggleable__label {background-color: #d4ebff;}#sk-container-id-1 input.sk-hidden--visually {border: 0;clip: rect(1px 1px 1px 1px);clip: rect(1px, 1px, 1px, 1px);height: 1px;margin: -1px;overflow: hidden;padding: 0;position: absolute;width: 1px;}#sk-container-id-1 div.sk-estimator {font-family: monospace;background-color: #f0f8ff;border: 1px dotted black;border-radius: 0.25em;box-sizing: border-box;margin-bottom: 0.5em;}#sk-container-id-1 div.sk-estimator:hover {background-color: #d4ebff;}#sk-container-id-1 div.sk-parallel-item::after {content: \"\";width: 100%;border-bottom: 1px solid gray;flex-grow: 1;}#sk-container-id-1 div.sk-label:hover label.sk-toggleable__label {background-color: #d4ebff;}#sk-container-id-1 div.sk-serial::before {content: \"\";position: absolute;border-left: 1px solid gray;box-sizing: border-box;top: 0;bottom: 0;left: 50%;z-index: 0;}#sk-container-id-1 div.sk-serial {display: flex;flex-direction: column;align-items: center;background-color: white;padding-right: 0.2em;padding-left: 0.2em;position: relative;}#sk-container-id-1 div.sk-item {position: relative;z-index: 1;}#sk-container-id-1 div.sk-parallel {display: flex;align-items: stretch;justify-content: center;background-color: white;position: relative;}#sk-container-id-1 div.sk-item::before, #sk-container-id-1 div.sk-parallel-item::before {content: \"\";position: absolute;border-left: 1px solid gray;box-sizing: border-box;top: 0;bottom: 0;left: 50%;z-index: -1;}#sk-container-id-1 div.sk-parallel-item {display: flex;flex-direction: column;z-index: 1;position: relative;background-color: white;}#sk-container-id-1 div.sk-parallel-item:first-child::after {align-self: flex-end;width: 50%;}#sk-container-id-1 div.sk-parallel-item:last-child::after {align-self: flex-start;width: 50%;}#sk-container-id-1 div.sk-parallel-item:only-child::after {width: 0;}#sk-container-id-1 div.sk-dashed-wrapped {border: 1px dashed gray;margin: 0 0.4em 0.5em 0.4em;box-sizing: border-box;padding-bottom: 0.4em;background-color: white;}#sk-container-id-1 div.sk-label label {font-family: monospace;font-weight: bold;display: inline-block;line-height: 1.2em;}#sk-container-id-1 div.sk-label-container {text-align: center;}#sk-container-id-1 div.sk-container {/* jupyter's `normalize.less` sets `[hidden] { display: none; }` but bootstrap.min.css set `[hidden] { display: none !important; }` so we also need the `!important` here to be able to override the default hidden behavior on the sphinx rendered scikit-learn.org. See: https://github.com/scikit-learn/scikit-learn/issues/21755 */display: inline-block !important;position: relative;}#sk-container-id-1 div.sk-text-repr-fallback {display: none;}</style><div id=\"sk-container-id-1\" class=\"sk-top-container\"><div class=\"sk-text-repr-fallback\"><pre>BayesSearchCV(cv=5,\n",
       "              estimator=Pipeline(steps=[(&#x27;bow&#x27;,\n",
       "                                         CountVectorizer(max_features=5000)),\n",
       "                                        (&#x27;xgb&#x27;,\n",
       "                                         XGBClassifier(base_score=None,\n",
       "                                                       booster=None,\n",
       "                                                       callbacks=None,\n",
       "                                                       colsample_bylevel=None,\n",
       "                                                       colsample_bynode=None,\n",
       "                                                       colsample_bytree=None,\n",
       "                                                       device=None,\n",
       "                                                       early_stopping_rounds=None,\n",
       "                                                       enable_categorical=False,\n",
       "                                                       eval_metric=None,\n",
       "                                                       feature_types=None,\n",
       "                                                       gamma=None,\n",
       "                                                       grow_policy=None,\n",
       "                                                       im...\n",
       "                                                       max_depth=None,\n",
       "                                                       max_leaves=None,\n",
       "                                                       min_child_weight=None,\n",
       "                                                       missing=nan,\n",
       "                                                       monotone_constraints=None,\n",
       "                                                       multi_strategy=None,\n",
       "                                                       n_estimators=None,\n",
       "                                                       n_jobs=None, num_class=6,\n",
       "                                                       num_parallel_tree=None, ...))]),\n",
       "              n_iter=30, scoring=&#x27;f1_weighted&#x27;,\n",
       "              search_spaces={&#x27;xgb__colsample_bytree&#x27;: (0.5, 1.0),\n",
       "                             &#x27;xgb__eta&#x27;: (0.01, 0.5, &#x27;log-uniform&#x27;),\n",
       "                             &#x27;xgb__max_depth&#x27;: (3, 10),\n",
       "                             &#x27;xgb__n_estimators&#x27;: (50, 300)})</pre><b>In a Jupyter environment, please rerun this cell to show the HTML representation or trust the notebook. <br />On GitHub, the HTML representation is unable to render, please try loading this page with nbviewer.org.</b></div><div class=\"sk-container\" hidden><div class=\"sk-item sk-dashed-wrapped\"><div class=\"sk-label-container\"><div class=\"sk-label sk-toggleable\"><input class=\"sk-toggleable__control sk-hidden--visually\" id=\"sk-estimator-id-1\" type=\"checkbox\" ><label for=\"sk-estimator-id-1\" class=\"sk-toggleable__label sk-toggleable__label-arrow\">BayesSearchCV</label><div class=\"sk-toggleable__content\"><pre>BayesSearchCV(cv=5,\n",
       "              estimator=Pipeline(steps=[(&#x27;bow&#x27;,\n",
       "                                         CountVectorizer(max_features=5000)),\n",
       "                                        (&#x27;xgb&#x27;,\n",
       "                                         XGBClassifier(base_score=None,\n",
       "                                                       booster=None,\n",
       "                                                       callbacks=None,\n",
       "                                                       colsample_bylevel=None,\n",
       "                                                       colsample_bynode=None,\n",
       "                                                       colsample_bytree=None,\n",
       "                                                       device=None,\n",
       "                                                       early_stopping_rounds=None,\n",
       "                                                       enable_categorical=False,\n",
       "                                                       eval_metric=None,\n",
       "                                                       feature_types=None,\n",
       "                                                       gamma=None,\n",
       "                                                       grow_policy=None,\n",
       "                                                       im...\n",
       "                                                       max_depth=None,\n",
       "                                                       max_leaves=None,\n",
       "                                                       min_child_weight=None,\n",
       "                                                       missing=nan,\n",
       "                                                       monotone_constraints=None,\n",
       "                                                       multi_strategy=None,\n",
       "                                                       n_estimators=None,\n",
       "                                                       n_jobs=None, num_class=6,\n",
       "                                                       num_parallel_tree=None, ...))]),\n",
       "              n_iter=30, scoring=&#x27;f1_weighted&#x27;,\n",
       "              search_spaces={&#x27;xgb__colsample_bytree&#x27;: (0.5, 1.0),\n",
       "                             &#x27;xgb__eta&#x27;: (0.01, 0.5, &#x27;log-uniform&#x27;),\n",
       "                             &#x27;xgb__max_depth&#x27;: (3, 10),\n",
       "                             &#x27;xgb__n_estimators&#x27;: (50, 300)})</pre></div></div></div><div class=\"sk-parallel\"><div class=\"sk-parallel-item\"><div class=\"sk-item\"><div class=\"sk-label-container\"><div class=\"sk-label sk-toggleable\"><input class=\"sk-toggleable__control sk-hidden--visually\" id=\"sk-estimator-id-2\" type=\"checkbox\" ><label for=\"sk-estimator-id-2\" class=\"sk-toggleable__label sk-toggleable__label-arrow\">estimator: Pipeline</label><div class=\"sk-toggleable__content\"><pre>Pipeline(steps=[(&#x27;bow&#x27;, CountVectorizer(max_features=5000)),\n",
       "                (&#x27;xgb&#x27;,\n",
       "                 XGBClassifier(base_score=None, booster=None, callbacks=None,\n",
       "                               colsample_bylevel=None, colsample_bynode=None,\n",
       "                               colsample_bytree=None, device=None,\n",
       "                               early_stopping_rounds=None,\n",
       "                               enable_categorical=False, eval_metric=None,\n",
       "                               feature_types=None, gamma=None, grow_policy=None,\n",
       "                               importance_type=None,\n",
       "                               interaction_constraints=None, learning_rate=None,\n",
       "                               max_bin=None, max_cat_threshold=None,\n",
       "                               max_cat_to_onehot=None, max_delta_step=None,\n",
       "                               max_depth=None, max_leaves=None,\n",
       "                               min_child_weight=None, missing=nan,\n",
       "                               monotone_constraints=None, multi_strategy=None,\n",
       "                               n_estimators=None, n_jobs=None, num_class=6,\n",
       "                               num_parallel_tree=None, ...))])</pre></div></div></div><div class=\"sk-serial\"><div class=\"sk-item\"><div class=\"sk-serial\"><div class=\"sk-item\"><div class=\"sk-estimator sk-toggleable\"><input class=\"sk-toggleable__control sk-hidden--visually\" id=\"sk-estimator-id-3\" type=\"checkbox\" ><label for=\"sk-estimator-id-3\" class=\"sk-toggleable__label sk-toggleable__label-arrow\">CountVectorizer</label><div class=\"sk-toggleable__content\"><pre>CountVectorizer(max_features=5000)</pre></div></div></div><div class=\"sk-item\"><div class=\"sk-estimator sk-toggleable\"><input class=\"sk-toggleable__control sk-hidden--visually\" id=\"sk-estimator-id-4\" type=\"checkbox\" ><label for=\"sk-estimator-id-4\" class=\"sk-toggleable__label sk-toggleable__label-arrow\">XGBClassifier</label><div class=\"sk-toggleable__content\"><pre>XGBClassifier(base_score=None, booster=None, callbacks=None,\n",
       "              colsample_bylevel=None, colsample_bynode=None,\n",
       "              colsample_bytree=None, device=None, early_stopping_rounds=None,\n",
       "              enable_categorical=False, eval_metric=None, feature_types=None,\n",
       "              gamma=None, grow_policy=None, importance_type=None,\n",
       "              interaction_constraints=None, learning_rate=None, max_bin=None,\n",
       "              max_cat_threshold=None, max_cat_to_onehot=None,\n",
       "              max_delta_step=None, max_depth=None, max_leaves=None,\n",
       "              min_child_weight=None, missing=nan, monotone_constraints=None,\n",
       "              multi_strategy=None, n_estimators=None, n_jobs=None, num_class=6,\n",
       "              num_parallel_tree=None, ...)</pre></div></div></div></div></div></div></div></div></div></div></div></div>"
      ],
      "text/plain": [
       "BayesSearchCV(cv=5,\n",
       "              estimator=Pipeline(steps=[('bow',\n",
       "                                         CountVectorizer(max_features=5000)),\n",
       "                                        ('xgb',\n",
       "                                         XGBClassifier(base_score=None,\n",
       "                                                       booster=None,\n",
       "                                                       callbacks=None,\n",
       "                                                       colsample_bylevel=None,\n",
       "                                                       colsample_bynode=None,\n",
       "                                                       colsample_bytree=None,\n",
       "                                                       device=None,\n",
       "                                                       early_stopping_rounds=None,\n",
       "                                                       enable_categorical=False,\n",
       "                                                       eval_metric=None,\n",
       "                                                       feature_types=None,\n",
       "                                                       gamma=None,\n",
       "                                                       grow_policy=None,\n",
       "                                                       im...\n",
       "                                                       max_depth=None,\n",
       "                                                       max_leaves=None,\n",
       "                                                       min_child_weight=None,\n",
       "                                                       missing=nan,\n",
       "                                                       monotone_constraints=None,\n",
       "                                                       multi_strategy=None,\n",
       "                                                       n_estimators=None,\n",
       "                                                       n_jobs=None, num_class=6,\n",
       "                                                       num_parallel_tree=None, ...))]),\n",
       "              n_iter=30, scoring='f1_weighted',\n",
       "              search_spaces={'xgb__colsample_bytree': (0.5, 1.0),\n",
       "                             'xgb__eta': (0.01, 0.5, 'log-uniform'),\n",
       "                             'xgb__max_depth': (3, 10),\n",
       "                             'xgb__n_estimators': (50, 300)})"
      ]
     },
     "execution_count": 24,
     "metadata": {},
     "output_type": "execute_result"
    }
   ],
   "source": [
    "bayes_search = BayesSearchCV(pipeline, search_space, n_iter=30, scoring='f1_weighted', cv=5)\n",
    "bayes_search.fit(X_train_split, y_train_split)"
   ]
  },
  {
   "cell_type": "code",
   "execution_count": 25,
   "id": "d355ba74",
   "metadata": {
    "execution": {
     "iopub.execute_input": "2024-10-09T17:39:42.460396Z",
     "iopub.status.busy": "2024-10-09T17:39:42.460058Z",
     "iopub.status.idle": "2024-10-09T17:39:42.713565Z",
     "shell.execute_reply": "2024-10-09T17:39:42.712783Z"
    },
    "papermill": {
     "duration": 0.266441,
     "end_time": "2024-10-09T17:39:42.715558",
     "exception": false,
     "start_time": "2024-10-09T17:39:42.449117",
     "status": "completed"
    },
    "tags": []
   },
   "outputs": [
    {
     "name": "stdout",
     "output_type": "stream",
     "text": [
      "Best Parameters: OrderedDict([('xgb__colsample_bytree', 1.0), ('xgb__eta', 0.17554181819381467), ('xgb__max_depth', 10), ('xgb__n_estimators', 300)])\n"
     ]
    }
   ],
   "source": [
    "# Get the best parameters from cross-validation\n",
    "print(\"Best Parameters:\", bayes_search.best_params_)\n",
    "\n",
    "# Evaluate on the validation set\n",
    "val_predictions_bayes = bayes_search.predict(X_val_split)"
   ]
  },
  {
   "cell_type": "code",
   "execution_count": 26,
   "id": "4fb1f069",
   "metadata": {
    "execution": {
     "iopub.execute_input": "2024-10-09T17:39:42.741504Z",
     "iopub.status.busy": "2024-10-09T17:39:42.741164Z",
     "iopub.status.idle": "2024-10-09T17:39:42.761327Z",
     "shell.execute_reply": "2024-10-09T17:39:42.760181Z"
    },
    "papermill": {
     "duration": 0.034429,
     "end_time": "2024-10-09T17:39:42.763399",
     "exception": false,
     "start_time": "2024-10-09T17:39:42.728970",
     "status": "completed"
    },
    "tags": []
   },
   "outputs": [
    {
     "name": "stdout",
     "output_type": "stream",
     "text": [
      "Validation Accuracy with Cross-Validation: 0.8626444159178434\n",
      "\n",
      "Classification Report on Validation Set with Cross-Validation:\n",
      "              precision    recall  f1-score   support\n",
      "\n",
      "           0       0.71      0.54      0.61       165\n",
      "           1       0.63      0.48      0.54       134\n",
      "           2       0.72      0.26      0.38       178\n",
      "           3       0.88      0.97      0.92      2312\n",
      "           4       0.92      0.83      0.88       198\n",
      "           5       0.83      0.67      0.74       129\n",
      "\n",
      "    accuracy                           0.86      3116\n",
      "   macro avg       0.78      0.62      0.68      3116\n",
      "weighted avg       0.85      0.86      0.85      3116\n",
      "\n"
     ]
    }
   ],
   "source": [
    "print(\"Validation Accuracy with Cross-Validation:\", accuracy_score(y_val_split, val_predictions_bayes))\n",
    "print(\"\\nClassification Report on Validation Set with Cross-Validation:\")\n",
    "print(classification_report(y_val_split, val_predictions_bayes))"
   ]
  },
  {
   "cell_type": "code",
   "execution_count": 27,
   "id": "eba51aed",
   "metadata": {
    "execution": {
     "iopub.execute_input": "2024-10-09T17:39:42.786224Z",
     "iopub.status.busy": "2024-10-09T17:39:42.785907Z",
     "iopub.status.idle": "2024-10-09T17:39:43.063778Z",
     "shell.execute_reply": "2024-10-09T17:39:43.062990Z"
    },
    "papermill": {
     "duration": 0.291643,
     "end_time": "2024-10-09T17:39:43.065908",
     "exception": false,
     "start_time": "2024-10-09T17:39:42.774265",
     "status": "completed"
    },
    "tags": []
   },
   "outputs": [],
   "source": [
    "# Make predictions on the test data using the best model from cross-validation\n",
    "test_predictions_bayes = bayes_search.predict(test_data['clean_text'])"
   ]
  },
  {
   "cell_type": "code",
   "execution_count": 28,
   "id": "b03a192d",
   "metadata": {
    "execution": {
     "iopub.execute_input": "2024-10-09T17:39:43.089982Z",
     "iopub.status.busy": "2024-10-09T17:39:43.089641Z",
     "iopub.status.idle": "2024-10-09T17:39:43.105544Z",
     "shell.execute_reply": "2024-10-09T17:39:43.104636Z"
    },
    "papermill": {
     "duration": 0.029678,
     "end_time": "2024-10-09T17:39:43.107644",
     "exception": false,
     "start_time": "2024-10-09T17:39:43.077966",
     "status": "completed"
    },
    "tags": []
   },
   "outputs": [
    {
     "name": "stdout",
     "output_type": "stream",
     "text": [
      "Test predictions with Bayesian optimization saved to 'test_predictions_bayes.csv'.\n"
     ]
    }
   ],
   "source": [
    "# Save the test predictions to a CSV file\n",
    "test_data['Category'] = test_predictions_bayes\n",
    "submission_bayes = test_data[['ID', 'Category']]\n",
    "submission_bayes.to_csv('test_predictions_bayes.csv', index=False)\n",
    "\n",
    "print(\"Test predictions with Bayesian optimization saved to 'test_predictions_bayes.csv'.\")"
   ]
  },
  {
   "cell_type": "markdown",
   "id": "124c8d98",
   "metadata": {
    "papermill": {
     "duration": 0.010263,
     "end_time": "2024-10-09T17:39:43.128386",
     "exception": false,
     "start_time": "2024-10-09T17:39:43.118123",
     "status": "completed"
    },
    "tags": []
   },
   "source": [
    "# **Pre-Processing**\n",
    "\n",
    "*sklearn library*\n",
    "\n",
    "Missing values in the News_headline column are replaced with 'missing_headline' to ensure no NaN values interfere with model training.\n",
    "\n",
    "Stopword Removal: Common words with little meaning in classification are removed using NLTK’s English stopwords list.\n",
    "\n",
    "Lemmatization: Words are reduced to their root form using NLTK's WordNetLemmatizer, ensuring that words like \"running\" and \"run\" are treated as the same.\n",
    "\n",
    "Regex-based Cleaning: Regular expressions are used to remove special characters and numbers from the text, leaving only alphabetic content.\n",
    "\n",
    "Combining Fields: The News_title and News_headline are concatenated to form a combined text column, which is further cleaned using the preprocessing function.\n"
   ]
  },
  {
   "cell_type": "markdown",
   "id": "a03d3d9c",
   "metadata": {
    "papermill": {
     "duration": 0.010046,
     "end_time": "2024-10-09T17:39:43.148789",
     "exception": false,
     "start_time": "2024-10-09T17:39:43.138743",
     "status": "completed"
    },
    "tags": []
   },
   "source": [
    "# **Feature Engineering:**\n",
    "\n",
    "Title and Headline Lengths: New features are created based on the word count of News_title and News_headline, adding more numerical data to potentially enhance the classification."
   ]
  },
  {
   "cell_type": "markdown",
   "id": "a449d1ad",
   "metadata": {
    "papermill": {
     "duration": 0.010327,
     "end_time": "2024-10-09T17:39:43.169365",
     "exception": false,
     "start_time": "2024-10-09T17:39:43.159038",
     "status": "completed"
    },
    "tags": []
   },
   "source": [
    "# **Label Encoding:**\n",
    "The news categories (e.g., Arts, Business) are mapped to numerical values, making them suitable for classification."
   ]
  },
  {
   "cell_type": "markdown",
   "id": "21174d0c",
   "metadata": {
    "papermill": {
     "duration": 0.010086,
     "end_time": "2024-10-09T17:39:43.189885",
     "exception": false,
     "start_time": "2024-10-09T17:39:43.179799",
     "status": "completed"
    },
    "tags": []
   },
   "source": [
    "# **Bag of Words (BoW) Feature Extraction:**\n",
    "We first used tfidf but later on changed to bagofwords\n",
    "\n",
    "CountVectorizer: We use a Bag of Words model to convert the textual data into a numerical matrix representation. The vocabulary is limited to 5000 words to manage feature dimensionality."
   ]
  },
  {
   "cell_type": "markdown",
   "id": "ae779a84",
   "metadata": {
    "papermill": {
     "duration": 0.010168,
     "end_time": "2024-10-09T17:39:43.210268",
     "exception": false,
     "start_time": "2024-10-09T17:39:43.200100",
     "status": "completed"
    },
    "tags": []
   },
   "source": [
    "# **XGBoost Classifier:**\n",
    "We first used RandomForestClassifier then later on changed.\n",
    "\n",
    "XGBoost is an efficient gradient boosting algorithm used for classification.\n",
    "Objective Function: The objective is set to 'multi:softmax', as this is a multi-class classification problem with six distinct categories."
   ]
  },
  {
   "cell_type": "markdown",
   "id": "85991525",
   "metadata": {
    "papermill": {
     "duration": 0.010044,
     "end_time": "2024-10-09T17:39:43.230309",
     "exception": false,
     "start_time": "2024-10-09T17:39:43.220265",
     "status": "completed"
    },
    "tags": []
   },
   "source": [
    "# **Bayesian Optimization (BayesSearchCV):**\n",
    "We first applied gridsearchCV but BayesSearch gave better and more accurate results\n",
    "Purpose: We apply Bayesian optimization using BayesSearchCV from skopt to find the best hyperparameters for XGBoost. This optimization method efficiently explores the hyperparameter space, balancing exploration and exploitation.\n",
    "Search Space: Parameters such as learning rate (eta), maximum depth (max_depth), number of estimators (n_estimators), and column sampling (colsample_bytree) are tuned."
   ]
  }
 ],
 "metadata": {
  "kaggle": {
   "accelerator": "none",
   "dataSources": [
    {
     "datasetId": 5804436,
     "sourceId": 9531121,
     "sourceType": "datasetVersion"
    }
   ],
   "dockerImageVersionId": 30786,
   "isGpuEnabled": false,
   "isInternetEnabled": true,
   "language": "python",
   "sourceType": "notebook"
  },
  "kernelspec": {
   "display_name": "Python 3",
   "language": "python",
   "name": "python3"
  },
  "language_info": {
   "codemirror_mode": {
    "name": "ipython",
    "version": 3
   },
   "file_extension": ".py",
   "mimetype": "text/x-python",
   "name": "python",
   "nbconvert_exporter": "python",
   "pygments_lexer": "ipython3",
   "version": "3.10.14"
  },
  "papermill": {
   "default_parameters": {},
   "duration": 1032.236401,
   "end_time": "2024-10-09T17:39:44.060492",
   "environment_variables": {},
   "exception": null,
   "input_path": "__notebook__.ipynb",
   "output_path": "__notebook__.ipynb",
   "parameters": {},
   "start_time": "2024-10-09T17:22:31.824091",
   "version": "2.6.0"
  }
 },
 "nbformat": 4,
 "nbformat_minor": 5
}
