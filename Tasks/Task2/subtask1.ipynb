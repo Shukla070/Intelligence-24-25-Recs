{
 "cells": [
  {
   "cell_type": "code",
   "execution_count": 1,
   "id": "2a66e0eb",
   "metadata": {
    "_cell_guid": "b1076dfc-b9ad-4769-8c92-a6c4dae69d19",
    "_uuid": "8f2839f25d086af736a60e9eeb907d3b93b6e0e5",
    "execution": {
     "iopub.execute_input": "2024-10-09T03:10:11.675339Z",
     "iopub.status.busy": "2024-10-09T03:10:11.674261Z",
     "iopub.status.idle": "2024-10-09T03:10:12.490966Z",
     "shell.execute_reply": "2024-10-09T03:10:12.490139Z"
    },
    "papermill": {
     "duration": 0.827327,
     "end_time": "2024-10-09T03:10:12.493439",
     "exception": false,
     "start_time": "2024-10-09T03:10:11.666112",
     "status": "completed"
    },
    "tags": []
   },
   "outputs": [],
   "source": [
    "# This Python 3 environment comes with many helpful analytics libraries installed\n",
    "# It is defined by the kaggle/python Docker image: https://github.com/kaggle/docker-python\n",
    "# For example, here's several helpful packages to load\n",
    "\n",
    "import numpy as np # linear algebra\n",
    "import pandas as pd # data processing, CSV file I/O (e.g. pd.read_csv)\n",
    "\n",
    "# Input data files are available in the read-only \"../input/\" directory\n",
    "# For example, running this (by clicking run or pressing Shift+Enter) will list all files under the input directory\n",
    "\n",
    "import os\n",
    "# for dirname, _, filenames in os.walk('/kaggle/input'):\n",
    "#     for filename in filenames:\n",
    "#         print(os.path.join(dirname, filename))\n",
    "\n",
    "# You can write up to 20GB to the current directory (/kaggle/working/) that gets preserved as output when you create a version using \"Save & Run All\" \n",
    "# You can also write temporary files to /kaggle/temp/, but they won't be saved outside of the current session"
   ]
  },
  {
   "cell_type": "code",
   "execution_count": 2,
   "id": "134ffa72",
   "metadata": {
    "execution": {
     "iopub.execute_input": "2024-10-09T03:10:12.505993Z",
     "iopub.status.busy": "2024-10-09T03:10:12.505552Z",
     "iopub.status.idle": "2024-10-09T03:10:12.509831Z",
     "shell.execute_reply": "2024-10-09T03:10:12.508908Z"
    },
    "papermill": {
     "duration": 0.012959,
     "end_time": "2024-10-09T03:10:12.511979",
     "exception": false,
     "start_time": "2024-10-09T03:10:12.499020",
     "status": "completed"
    },
    "tags": []
   },
   "outputs": [],
   "source": [
    "# !pip install torch torchvision visdom mlflow scikit-image\n"
   ]
  },
  {
   "cell_type": "code",
   "execution_count": 3,
   "id": "81b09722",
   "metadata": {
    "execution": {
     "iopub.execute_input": "2024-10-09T03:10:12.524000Z",
     "iopub.status.busy": "2024-10-09T03:10:12.523702Z",
     "iopub.status.idle": "2024-10-09T03:10:18.949082Z",
     "shell.execute_reply": "2024-10-09T03:10:18.948100Z"
    },
    "papermill": {
     "duration": 6.433947,
     "end_time": "2024-10-09T03:10:18.951553",
     "exception": false,
     "start_time": "2024-10-09T03:10:12.517606",
     "status": "completed"
    },
    "tags": []
   },
   "outputs": [],
   "source": [
    "import os\n",
    "import torch\n",
    "import torch.nn as nn\n",
    "import torch.optim as optim\n",
    "from torch.utils.data import DataLoader, Dataset\n",
    "from PIL import Image\n",
    "import torchvision.transforms as transforms\n",
    "from skimage.metrics import peak_signal_noise_ratio, structural_similarity, mean_squared_error\n",
    "from tqdm import tqdm"
   ]
  },
  {
   "cell_type": "code",
   "execution_count": 4,
   "id": "c7f2d8db",
   "metadata": {
    "execution": {
     "iopub.execute_input": "2024-10-09T03:10:18.964188Z",
     "iopub.status.busy": "2024-10-09T03:10:18.963666Z",
     "iopub.status.idle": "2024-10-09T03:10:19.028204Z",
     "shell.execute_reply": "2024-10-09T03:10:19.027062Z"
    },
    "papermill": {
     "duration": 0.073219,
     "end_time": "2024-10-09T03:10:19.030333",
     "exception": false,
     "start_time": "2024-10-09T03:10:18.957114",
     "status": "completed"
    },
    "tags": []
   },
   "outputs": [
    {
     "data": {
      "text/plain": [
       "device(type='cuda')"
      ]
     },
     "execution_count": 4,
     "metadata": {},
     "output_type": "execute_result"
    }
   ],
   "source": [
    "# Device setup\n",
    "device = torch.device(\"cuda\" if torch.cuda.is_available() else \"cpu\")\n",
    "device"
   ]
  },
  {
   "cell_type": "code",
   "execution_count": 5,
   "id": "00120cfa",
   "metadata": {
    "execution": {
     "iopub.execute_input": "2024-10-09T03:10:19.043778Z",
     "iopub.status.busy": "2024-10-09T03:10:19.043423Z",
     "iopub.status.idle": "2024-10-09T03:10:19.053157Z",
     "shell.execute_reply": "2024-10-09T03:10:19.052171Z"
    },
    "papermill": {
     "duration": 0.018553,
     "end_time": "2024-10-09T03:10:19.055568",
     "exception": false,
     "start_time": "2024-10-09T03:10:19.037015",
     "status": "completed"
    },
    "tags": []
   },
   "outputs": [],
   "source": [
    "# Custom Dataset Class\n",
    "class CustomImageDataset(Dataset):\n",
    "    def __init__(self, image_dir_raw, image_dir_ref, transform=None):\n",
    "        self.image_dir_raw = image_dir_raw\n",
    "        self.image_dir_ref = image_dir_ref\n",
    "        self.transform = transform\n",
    "        self.raw_image_filenames = sorted([f for f in os.listdir(image_dir_raw) if os.path.isfile(os.path.join(image_dir_raw, f))])\n",
    "        self.ref_image_filenames = sorted([f for f in os.listdir(image_dir_ref) if os.path.isfile(os.path.join(image_dir_ref, f))])\n",
    "        \n",
    "    def __len__(self):\n",
    "        return len(self.raw_image_filenames)\n",
    "\n",
    "    def __getitem__(self, idx):\n",
    "        raw_img_path = os.path.join(self.image_dir_raw, self.raw_image_filenames[idx])\n",
    "        ref_img_path = os.path.join(self.image_dir_ref, self.ref_image_filenames[idx])\n",
    "        \n",
    "        raw_image = Image.open(raw_img_path).convert(\"RGB\")\n",
    "        ref_image = Image.open(ref_img_path).convert(\"RGB\")\n",
    "        \n",
    "        if self.transform:\n",
    "            raw_image = self.transform(raw_image)\n",
    "            ref_image = self.transform(ref_image)\n",
    "            \n",
    "        return raw_image, ref_image"
   ]
  },
  {
   "cell_type": "code",
   "execution_count": 6,
   "id": "60cc743a",
   "metadata": {
    "execution": {
     "iopub.execute_input": "2024-10-09T03:10:19.067484Z",
     "iopub.status.busy": "2024-10-09T03:10:19.067163Z",
     "iopub.status.idle": "2024-10-09T03:10:19.081008Z",
     "shell.execute_reply": "2024-10-09T03:10:19.079961Z"
    },
    "papermill": {
     "duration": 0.022687,
     "end_time": "2024-10-09T03:10:19.083501",
     "exception": false,
     "start_time": "2024-10-09T03:10:19.060814",
     "status": "completed"
    },
    "tags": []
   },
   "outputs": [],
   "source": [
    "# Define the Variational AutoEncoder Model\n",
    "class VariationalAutoEncoder(nn.Module):\n",
    "    def __init__(self, features_d):\n",
    "        super(VariationalAutoEncoder, self).__init__()\n",
    "        # Encoder\n",
    "        self.encoder = nn.Sequential(\n",
    "            self._enc_block(3, features_d, 3, 2, 1),\n",
    "            self._enc_block(features_d, features_d * 2, 3, 2, 1),\n",
    "            self._enc_block(features_d * 2, features_d * 4, 3, 2, 1),\n",
    "        )\n",
    "        # Latent space\n",
    "        self.conv_mu = nn.Conv2d(features_d * 4, features_d * 4, kernel_size=3, stride=1, padding=1)\n",
    "        self.conv_logvar = nn.Conv2d(features_d * 4, features_d * 4, kernel_size=3, stride=1, padding=1)\n",
    "        # Decoder\n",
    "        self.decoder = nn.Sequential(\n",
    "            self._dec_block(features_d * 4, features_d * 2, 3, 1, 1),\n",
    "            self._dec_block(features_d * 2, features_d, 3, 1, 1),\n",
    "            nn.Upsample(scale_factor=2),\n",
    "            nn.ConvTranspose2d(features_d, 3, kernel_size=3, stride=1, padding=1),\n",
    "            nn.Sigmoid(),\n",
    "        )\n",
    "\n",
    "    def _enc_block(self, in_channels, out_channels, kernel_size, stride, padding):\n",
    "        return nn.Sequential(\n",
    "            nn.Conv2d(in_channels, out_channels, kernel_size, stride, padding),\n",
    "            nn.BatchNorm2d(out_channels),\n",
    "            nn.ReLU(),\n",
    "        )\n",
    "\n",
    "    def _dec_block(self, in_channels, out_channels, kernel_size, stride, padding):\n",
    "        return nn.Sequential(\n",
    "            nn.Upsample(scale_factor=2),\n",
    "            nn.ConvTranspose2d(in_channels, out_channels, kernel_size, stride, padding),\n",
    "            nn.BatchNorm2d(out_channels),\n",
    "            nn.ReLU(),\n",
    "        )\n",
    "\n",
    "    def reparameterize(self, mu, logvar):\n",
    "        std = torch.exp(0.5 * logvar)\n",
    "        eps = torch.randn_like(std)\n",
    "        return eps * std + mu\n",
    "\n",
    "    def forward(self, imgs):\n",
    "        x = self.encoder(imgs)\n",
    "        mu = self.conv_mu(x)\n",
    "        logvar = self.conv_logvar(x)\n",
    "        z = self.reparameterize(mu, logvar)\n",
    "        reconstructed_imgs = self.decoder(z)\n",
    "        return reconstructed_imgs\n"
   ]
  },
  {
   "cell_type": "code",
   "execution_count": 7,
   "id": "b1d95094",
   "metadata": {
    "execution": {
     "iopub.execute_input": "2024-10-09T03:10:19.096247Z",
     "iopub.status.busy": "2024-10-09T03:10:19.095878Z",
     "iopub.status.idle": "2024-10-09T03:10:19.322594Z",
     "shell.execute_reply": "2024-10-09T03:10:19.321471Z"
    },
    "papermill": {
     "duration": 0.235766,
     "end_time": "2024-10-09T03:10:19.325149",
     "exception": false,
     "start_time": "2024-10-09T03:10:19.089383",
     "status": "completed"
    },
    "tags": []
   },
   "outputs": [],
   "source": [
    "# Initialize the model\n",
    "model = VariationalAutoEncoder(features_d=64).to(device)"
   ]
  },
  {
   "cell_type": "code",
   "execution_count": 8,
   "id": "88b036d4",
   "metadata": {
    "execution": {
     "iopub.execute_input": "2024-10-09T03:10:19.337829Z",
     "iopub.status.busy": "2024-10-09T03:10:19.337449Z",
     "iopub.status.idle": "2024-10-09T03:10:19.343707Z",
     "shell.execute_reply": "2024-10-09T03:10:19.342651Z"
    },
    "papermill": {
     "duration": 0.014899,
     "end_time": "2024-10-09T03:10:19.345745",
     "exception": false,
     "start_time": "2024-10-09T03:10:19.330846",
     "status": "completed"
    },
    "tags": []
   },
   "outputs": [],
   "source": [
    "# Load Dataset\n",
    "train_dir = '/kaggle/input/wec-task-2/Train'\n",
    "test_dir = '/kaggle/input/wec-task-2/Test'\n",
    "\n",
    "train_raw_dir = os.path.join(train_dir, 'Raw')\n",
    "train_ref_dir = os.path.join(train_dir, 'Reference')\n",
    "\n",
    "test_raw_dir = os.path.join(test_dir, 'Raw')\n",
    "test_ref_dir = os.path.join(test_dir, 'Reference')"
   ]
  },
  {
   "cell_type": "code",
   "execution_count": 9,
   "id": "280eb574",
   "metadata": {
    "execution": {
     "iopub.execute_input": "2024-10-09T03:10:19.358581Z",
     "iopub.status.busy": "2024-10-09T03:10:19.358204Z",
     "iopub.status.idle": "2024-10-09T03:10:19.363414Z",
     "shell.execute_reply": "2024-10-09T03:10:19.362460Z"
    },
    "papermill": {
     "duration": 0.014049,
     "end_time": "2024-10-09T03:10:19.365586",
     "exception": false,
     "start_time": "2024-10-09T03:10:19.351537",
     "status": "completed"
    },
    "tags": []
   },
   "outputs": [],
   "source": [
    "import torchvision.transforms as transforms\n",
    "\n",
    "# Define the transform with resizing to (480, 640)\n",
    "transform = transforms.Compose([\n",
    "    transforms.Resize((480, 640)),  # Resize to fixed size\n",
    "    transforms.ToTensor()           # Convert image to tensor\n",
    "])"
   ]
  },
  {
   "cell_type": "code",
   "execution_count": 10,
   "id": "94a82a9e",
   "metadata": {
    "execution": {
     "iopub.execute_input": "2024-10-09T03:10:19.377896Z",
     "iopub.status.busy": "2024-10-09T03:10:19.377571Z",
     "iopub.status.idle": "2024-10-09T03:10:19.582526Z",
     "shell.execute_reply": "2024-10-09T03:10:19.581504Z"
    },
    "papermill": {
     "duration": 0.21425,
     "end_time": "2024-10-09T03:10:19.585241",
     "exception": false,
     "start_time": "2024-10-09T03:10:19.370991",
     "status": "completed"
    },
    "tags": []
   },
   "outputs": [],
   "source": [
    "train_dataset = CustomImageDataset(image_dir_raw=train_raw_dir, image_dir_ref=train_ref_dir, transform=transform)\n",
    "train_loader = DataLoader(train_dataset, batch_size=8, shuffle=True)\n",
    "\n",
    "test_dataset = CustomImageDataset(image_dir_raw=test_raw_dir, image_dir_ref=test_ref_dir, transform=transform)\n",
    "test_loader = DataLoader(test_dataset, batch_size=8, shuffle=False)"
   ]
  },
  {
   "cell_type": "code",
   "execution_count": 11,
   "id": "fc2f39ce",
   "metadata": {
    "execution": {
     "iopub.execute_input": "2024-10-09T03:10:19.598849Z",
     "iopub.status.busy": "2024-10-09T03:10:19.598459Z",
     "iopub.status.idle": "2024-10-09T03:10:19.608358Z",
     "shell.execute_reply": "2024-10-09T03:10:19.607515Z"
    },
    "papermill": {
     "duration": 0.01903,
     "end_time": "2024-10-09T03:10:19.610338",
     "exception": false,
     "start_time": "2024-10-09T03:10:19.591308",
     "status": "completed"
    },
    "tags": []
   },
   "outputs": [],
   "source": [
    "# Training Function\n",
    "def train_model(model, train_loader, test_loader, epochs=10, lr=0.001):\n",
    "    device = \"cuda\" if torch.cuda.is_available() else \"cpu\"\n",
    "    optimizer = optim.Adam(model.parameters(), lr=lr)\n",
    "    criterion = nn.MSELoss()\n",
    "\n",
    "    for epoch in range(epochs):\n",
    "        model.train()\n",
    "        train_loss = 0\n",
    "        for noisy, clean in tqdm(train_loader):\n",
    "            noisy, clean = noisy.to(device), clean.to(device)\n",
    "            optimizer.zero_grad()\n",
    "            reconstructed = model(noisy)\n",
    "            loss = criterion(reconstructed, clean)\n",
    "            loss.backward()\n",
    "            optimizer.step()\n",
    "            train_loss += loss.item()\n",
    "\n",
    "        # Evaluate on the test set\n",
    "        model.eval()\n",
    "        test_loss = 0\n",
    "        with torch.no_grad():\n",
    "            for noisy, clean in test_loader:\n",
    "                noisy, clean = noisy.to(device), clean.to(device)\n",
    "                reconstructed = model(noisy)\n",
    "                loss = criterion(reconstructed, clean)\n",
    "                test_loss += loss.item()\n",
    "\n",
    "        print(f\"Epoch [{epoch+1}/{epochs}], Train Loss: {train_loss/len(train_loader)}, Test Loss: {test_loss/len(test_loader)}\")\n"
   ]
  },
  {
   "cell_type": "code",
   "execution_count": 12,
   "id": "675b873e",
   "metadata": {
    "execution": {
     "iopub.execute_input": "2024-10-09T03:10:19.622676Z",
     "iopub.status.busy": "2024-10-09T03:10:19.622321Z",
     "iopub.status.idle": "2024-10-09T05:08:36.610171Z",
     "shell.execute_reply": "2024-10-09T05:08:36.609112Z"
    },
    "papermill": {
     "duration": 7097.798559,
     "end_time": "2024-10-09T05:08:37.414526",
     "exception": false,
     "start_time": "2024-10-09T03:10:19.615967",
     "status": "completed"
    },
    "tags": []
   },
   "outputs": [
    {
     "name": "stderr",
     "output_type": "stream",
     "text": [
      "100%|██████████| 88/88 [01:16<00:00,  1.15it/s]\n"
     ]
    },
    {
     "name": "stdout",
     "output_type": "stream",
     "text": [
      "Epoch [1/100], Train Loss: 0.03956297490830449, Test Loss: 0.03996192322423061\n"
     ]
    },
    {
     "name": "stderr",
     "output_type": "stream",
     "text": [
      "100%|██████████| 88/88 [01:00<00:00,  1.45it/s]\n"
     ]
    },
    {
     "name": "stdout",
     "output_type": "stream",
     "text": [
      "Epoch [2/100], Train Loss: 0.027369645339521496, Test Loss: 0.02728709625080228\n"
     ]
    },
    {
     "name": "stderr",
     "output_type": "stream",
     "text": [
      "100%|██████████| 88/88 [01:01<00:00,  1.42it/s]\n"
     ]
    },
    {
     "name": "stdout",
     "output_type": "stream",
     "text": [
      "Epoch [3/100], Train Loss: 0.023678678024390883, Test Loss: 0.029188112743819754\n"
     ]
    },
    {
     "name": "stderr",
     "output_type": "stream",
     "text": [
      "100%|██████████| 88/88 [01:01<00:00,  1.43it/s]\n"
     ]
    },
    {
     "name": "stdout",
     "output_type": "stream",
     "text": [
      "Epoch [4/100], Train Loss: 0.023284495861100204, Test Loss: 0.027300747848736744\n"
     ]
    },
    {
     "name": "stderr",
     "output_type": "stream",
     "text": [
      "100%|██████████| 88/88 [01:01<00:00,  1.43it/s]\n"
     ]
    },
    {
     "name": "stdout",
     "output_type": "stream",
     "text": [
      "Epoch [5/100], Train Loss: 0.02201411525972865, Test Loss: 0.026588474633172154\n"
     ]
    },
    {
     "name": "stderr",
     "output_type": "stream",
     "text": [
      "100%|██████████| 88/88 [01:00<00:00,  1.46it/s]\n"
     ]
    },
    {
     "name": "stdout",
     "output_type": "stream",
     "text": [
      "Epoch [6/100], Train Loss: 0.021266929688863456, Test Loss: 0.024316439405083656\n"
     ]
    },
    {
     "name": "stderr",
     "output_type": "stream",
     "text": [
      "100%|██████████| 88/88 [00:59<00:00,  1.47it/s]\n"
     ]
    },
    {
     "name": "stdout",
     "output_type": "stream",
     "text": [
      "Epoch [7/100], Train Loss: 0.020714619450948456, Test Loss: 0.023294739774428308\n"
     ]
    },
    {
     "name": "stderr",
     "output_type": "stream",
     "text": [
      "100%|██████████| 88/88 [00:59<00:00,  1.47it/s]\n"
     ]
    },
    {
     "name": "stdout",
     "output_type": "stream",
     "text": [
      "Epoch [8/100], Train Loss: 0.020652526650916447, Test Loss: 0.023287193849682808\n"
     ]
    },
    {
     "name": "stderr",
     "output_type": "stream",
     "text": [
      "100%|██████████| 88/88 [01:00<00:00,  1.46it/s]\n"
     ]
    },
    {
     "name": "stdout",
     "output_type": "stream",
     "text": [
      "Epoch [9/100], Train Loss: 0.020782027393579483, Test Loss: 0.02476969159518679\n"
     ]
    },
    {
     "name": "stderr",
     "output_type": "stream",
     "text": [
      "100%|██████████| 88/88 [00:59<00:00,  1.47it/s]\n"
     ]
    },
    {
     "name": "stdout",
     "output_type": "stream",
     "text": [
      "Epoch [10/100], Train Loss: 0.01998770177703012, Test Loss: 0.022542818255412083\n"
     ]
    },
    {
     "name": "stderr",
     "output_type": "stream",
     "text": [
      "100%|██████████| 88/88 [01:00<00:00,  1.46it/s]\n"
     ]
    },
    {
     "name": "stdout",
     "output_type": "stream",
     "text": [
      "Epoch [11/100], Train Loss: 0.019751833275553177, Test Loss: 0.02496666496153921\n"
     ]
    },
    {
     "name": "stderr",
     "output_type": "stream",
     "text": [
      "100%|██████████| 88/88 [00:59<00:00,  1.49it/s]\n"
     ]
    },
    {
     "name": "stdout",
     "output_type": "stream",
     "text": [
      "Epoch [12/100], Train Loss: 0.019598286736502567, Test Loss: 0.022656151986060042\n"
     ]
    },
    {
     "name": "stderr",
     "output_type": "stream",
     "text": [
      "100%|██████████| 88/88 [00:59<00:00,  1.49it/s]\n"
     ]
    },
    {
     "name": "stdout",
     "output_type": "stream",
     "text": [
      "Epoch [13/100], Train Loss: 0.019188034845600752, Test Loss: 0.022497140647222597\n"
     ]
    },
    {
     "name": "stderr",
     "output_type": "stream",
     "text": [
      "100%|██████████| 88/88 [00:58<00:00,  1.51it/s]\n"
     ]
    },
    {
     "name": "stdout",
     "output_type": "stream",
     "text": [
      "Epoch [14/100], Train Loss: 0.018839169018478555, Test Loss: 0.023266185230265062\n"
     ]
    },
    {
     "name": "stderr",
     "output_type": "stream",
     "text": [
      "100%|██████████| 88/88 [00:58<00:00,  1.50it/s]\n"
     ]
    },
    {
     "name": "stdout",
     "output_type": "stream",
     "text": [
      "Epoch [15/100], Train Loss: 0.018709992704151027, Test Loss: 0.022608997921148937\n"
     ]
    },
    {
     "name": "stderr",
     "output_type": "stream",
     "text": [
      "100%|██████████| 88/88 [00:57<00:00,  1.53it/s]\n"
     ]
    },
    {
     "name": "stdout",
     "output_type": "stream",
     "text": [
      "Epoch [16/100], Train Loss: 0.018735185307873922, Test Loss: 0.02294261734156559\n"
     ]
    },
    {
     "name": "stderr",
     "output_type": "stream",
     "text": [
      "100%|██████████| 88/88 [00:56<00:00,  1.54it/s]\n"
     ]
    },
    {
     "name": "stdout",
     "output_type": "stream",
     "text": [
      "Epoch [17/100], Train Loss: 0.018361072373491796, Test Loss: 0.022807437771310408\n"
     ]
    },
    {
     "name": "stderr",
     "output_type": "stream",
     "text": [
      "100%|██████████| 88/88 [00:56<00:00,  1.55it/s]\n"
     ]
    },
    {
     "name": "stdout",
     "output_type": "stream",
     "text": [
      "Epoch [18/100], Train Loss: 0.018803989091380077, Test Loss: 0.0216476006899029\n"
     ]
    },
    {
     "name": "stderr",
     "output_type": "stream",
     "text": [
      "100%|██████████| 88/88 [00:56<00:00,  1.56it/s]\n"
     ]
    },
    {
     "name": "stdout",
     "output_type": "stream",
     "text": [
      "Epoch [19/100], Train Loss: 0.018583242940208453, Test Loss: 0.02210529532749206\n"
     ]
    },
    {
     "name": "stderr",
     "output_type": "stream",
     "text": [
      "100%|██████████| 88/88 [00:57<00:00,  1.54it/s]\n"
     ]
    },
    {
     "name": "stdout",
     "output_type": "stream",
     "text": [
      "Epoch [20/100], Train Loss: 0.01814706283833154, Test Loss: 0.021839068504050374\n"
     ]
    },
    {
     "name": "stderr",
     "output_type": "stream",
     "text": [
      "100%|██████████| 88/88 [00:55<00:00,  1.58it/s]\n"
     ]
    },
    {
     "name": "stdout",
     "output_type": "stream",
     "text": [
      "Epoch [21/100], Train Loss: 0.018598697740923275, Test Loss: 0.021738841198384762\n"
     ]
    },
    {
     "name": "stderr",
     "output_type": "stream",
     "text": [
      "100%|██████████| 88/88 [00:55<00:00,  1.58it/s]\n"
     ]
    },
    {
     "name": "stdout",
     "output_type": "stream",
     "text": [
      "Epoch [22/100], Train Loss: 0.01813826826401055, Test Loss: 0.019897270714864135\n"
     ]
    },
    {
     "name": "stderr",
     "output_type": "stream",
     "text": [
      "100%|██████████| 88/88 [00:56<00:00,  1.55it/s]\n"
     ]
    },
    {
     "name": "stdout",
     "output_type": "stream",
     "text": [
      "Epoch [23/100], Train Loss: 0.018332867438650945, Test Loss: 0.02218797170401861\n"
     ]
    },
    {
     "name": "stderr",
     "output_type": "stream",
     "text": [
      "100%|██████████| 88/88 [00:56<00:00,  1.57it/s]\n"
     ]
    },
    {
     "name": "stdout",
     "output_type": "stream",
     "text": [
      "Epoch [24/100], Train Loss: 0.01801005678928711, Test Loss: 0.023657416478575517\n"
     ]
    },
    {
     "name": "stderr",
     "output_type": "stream",
     "text": [
      "100%|██████████| 88/88 [00:56<00:00,  1.56it/s]\n"
     ]
    },
    {
     "name": "stdout",
     "output_type": "stream",
     "text": [
      "Epoch [25/100], Train Loss: 0.017307989606210453, Test Loss: 0.02255436551058665\n"
     ]
    },
    {
     "name": "stderr",
     "output_type": "stream",
     "text": [
      "100%|██████████| 88/88 [00:58<00:00,  1.51it/s]\n"
     ]
    },
    {
     "name": "stdout",
     "output_type": "stream",
     "text": [
      "Epoch [26/100], Train Loss: 0.01763700352008031, Test Loss: 0.020460988045670092\n"
     ]
    },
    {
     "name": "stderr",
     "output_type": "stream",
     "text": [
      "100%|██████████| 88/88 [00:57<00:00,  1.53it/s]\n"
     ]
    },
    {
     "name": "stdout",
     "output_type": "stream",
     "text": [
      "Epoch [27/100], Train Loss: 0.018118651848371057, Test Loss: 0.02030041239534815\n"
     ]
    },
    {
     "name": "stderr",
     "output_type": "stream",
     "text": [
      "100%|██████████| 88/88 [00:56<00:00,  1.56it/s]\n"
     ]
    },
    {
     "name": "stdout",
     "output_type": "stream",
     "text": [
      "Epoch [28/100], Train Loss: 0.017381187581287868, Test Loss: 0.021464296073342364\n"
     ]
    },
    {
     "name": "stderr",
     "output_type": "stream",
     "text": [
      "100%|██████████| 88/88 [00:55<00:00,  1.58it/s]\n"
     ]
    },
    {
     "name": "stdout",
     "output_type": "stream",
     "text": [
      "Epoch [29/100], Train Loss: 0.017864830114624718, Test Loss: 0.020156571292318404\n"
     ]
    },
    {
     "name": "stderr",
     "output_type": "stream",
     "text": [
      "100%|██████████| 88/88 [00:57<00:00,  1.54it/s]\n"
     ]
    },
    {
     "name": "stdout",
     "output_type": "stream",
     "text": [
      "Epoch [30/100], Train Loss: 0.017563206302425402, Test Loss: 0.02149519188484798\n"
     ]
    },
    {
     "name": "stderr",
     "output_type": "stream",
     "text": [
      "100%|██████████| 88/88 [00:55<00:00,  1.58it/s]\n"
     ]
    },
    {
     "name": "stdout",
     "output_type": "stream",
     "text": [
      "Epoch [31/100], Train Loss: 0.01698417503344403, Test Loss: 0.02071305050048977\n"
     ]
    },
    {
     "name": "stderr",
     "output_type": "stream",
     "text": [
      "100%|██████████| 88/88 [00:56<00:00,  1.57it/s]\n"
     ]
    },
    {
     "name": "stdout",
     "output_type": "stream",
     "text": [
      "Epoch [32/100], Train Loss: 0.01719796198250895, Test Loss: 0.02276177133899182\n"
     ]
    },
    {
     "name": "stderr",
     "output_type": "stream",
     "text": [
      "100%|██████████| 88/88 [00:55<00:00,  1.59it/s]\n"
     ]
    },
    {
     "name": "stdout",
     "output_type": "stream",
     "text": [
      "Epoch [33/100], Train Loss: 0.017565026561814277, Test Loss: 0.02220271702390164\n"
     ]
    },
    {
     "name": "stderr",
     "output_type": "stream",
     "text": [
      "100%|██████████| 88/88 [00:55<00:00,  1.58it/s]\n"
     ]
    },
    {
     "name": "stdout",
     "output_type": "stream",
     "text": [
      "Epoch [34/100], Train Loss: 0.017391937657852064, Test Loss: 0.021002098743338138\n"
     ]
    },
    {
     "name": "stderr",
     "output_type": "stream",
     "text": [
      "100%|██████████| 88/88 [00:55<00:00,  1.59it/s]\n"
     ]
    },
    {
     "name": "stdout",
     "output_type": "stream",
     "text": [
      "Epoch [35/100], Train Loss: 0.016833311687646943, Test Loss: 0.02069986592202137\n"
     ]
    },
    {
     "name": "stderr",
     "output_type": "stream",
     "text": [
      "100%|██████████| 88/88 [00:58<00:00,  1.52it/s]\n"
     ]
    },
    {
     "name": "stdout",
     "output_type": "stream",
     "text": [
      "Epoch [36/100], Train Loss: 0.01712602845774117, Test Loss: 0.020731750254829723\n"
     ]
    },
    {
     "name": "stderr",
     "output_type": "stream",
     "text": [
      "100%|██████████| 88/88 [00:56<00:00,  1.55it/s]\n"
     ]
    },
    {
     "name": "stdout",
     "output_type": "stream",
     "text": [
      "Epoch [37/100], Train Loss: 0.01688800062137571, Test Loss: 0.02322856105941658\n"
     ]
    },
    {
     "name": "stderr",
     "output_type": "stream",
     "text": [
      "100%|██████████| 88/88 [00:56<00:00,  1.57it/s]\n"
     ]
    },
    {
     "name": "stdout",
     "output_type": "stream",
     "text": [
      "Epoch [38/100], Train Loss: 0.017007206661880693, Test Loss: 0.022048520389944315\n"
     ]
    },
    {
     "name": "stderr",
     "output_type": "stream",
     "text": [
      "100%|██████████| 88/88 [00:55<00:00,  1.59it/s]\n"
     ]
    },
    {
     "name": "stdout",
     "output_type": "stream",
     "text": [
      "Epoch [39/100], Train Loss: 0.01669989761219106, Test Loss: 0.02073410855761419\n"
     ]
    },
    {
     "name": "stderr",
     "output_type": "stream",
     "text": [
      "100%|██████████| 88/88 [00:55<00:00,  1.57it/s]\n"
     ]
    },
    {
     "name": "stdout",
     "output_type": "stream",
     "text": [
      "Epoch [40/100], Train Loss: 0.01681119128426706, Test Loss: 0.01976752238503347\n"
     ]
    },
    {
     "name": "stderr",
     "output_type": "stream",
     "text": [
      "100%|██████████| 88/88 [00:58<00:00,  1.52it/s]\n"
     ]
    },
    {
     "name": "stdout",
     "output_type": "stream",
     "text": [
      "Epoch [41/100], Train Loss: 0.016651157099245625, Test Loss: 0.021425598417408764\n"
     ]
    },
    {
     "name": "stderr",
     "output_type": "stream",
     "text": [
      "100%|██████████| 88/88 [00:59<00:00,  1.49it/s]\n"
     ]
    },
    {
     "name": "stdout",
     "output_type": "stream",
     "text": [
      "Epoch [42/100], Train Loss: 0.0165989286350933, Test Loss: 0.0239929566741921\n"
     ]
    },
    {
     "name": "stderr",
     "output_type": "stream",
     "text": [
      "100%|██████████| 88/88 [00:59<00:00,  1.48it/s]\n"
     ]
    },
    {
     "name": "stdout",
     "output_type": "stream",
     "text": [
      "Epoch [43/100], Train Loss: 0.017066187468696047, Test Loss: 0.02063224813900888\n"
     ]
    },
    {
     "name": "stderr",
     "output_type": "stream",
     "text": [
      "100%|██████████| 88/88 [00:59<00:00,  1.47it/s]\n"
     ]
    },
    {
     "name": "stdout",
     "output_type": "stream",
     "text": [
      "Epoch [44/100], Train Loss: 0.016667891113849528, Test Loss: 0.019903375961196918\n"
     ]
    },
    {
     "name": "stderr",
     "output_type": "stream",
     "text": [
      "100%|██████████| 88/88 [00:59<00:00,  1.48it/s]\n"
     ]
    },
    {
     "name": "stdout",
     "output_type": "stream",
     "text": [
      "Epoch [45/100], Train Loss: 0.016284595561129125, Test Loss: 0.021170393874247868\n"
     ]
    },
    {
     "name": "stderr",
     "output_type": "stream",
     "text": [
      "100%|██████████| 88/88 [00:59<00:00,  1.48it/s]\n"
     ]
    },
    {
     "name": "stdout",
     "output_type": "stream",
     "text": [
      "Epoch [46/100], Train Loss: 0.016102558467537165, Test Loss: 0.02154820431799938\n"
     ]
    },
    {
     "name": "stderr",
     "output_type": "stream",
     "text": [
      "100%|██████████| 88/88 [00:58<00:00,  1.50it/s]\n"
     ]
    },
    {
     "name": "stdout",
     "output_type": "stream",
     "text": [
      "Epoch [47/100], Train Loss: 0.016394910698925905, Test Loss: 0.02071932062972337\n"
     ]
    },
    {
     "name": "stderr",
     "output_type": "stream",
     "text": [
      "100%|██████████| 88/88 [00:58<00:00,  1.49it/s]\n"
     ]
    },
    {
     "name": "stdout",
     "output_type": "stream",
     "text": [
      "Epoch [48/100], Train Loss: 0.016847573114897717, Test Loss: 0.01994247210677713\n"
     ]
    },
    {
     "name": "stderr",
     "output_type": "stream",
     "text": [
      "100%|██████████| 88/88 [00:58<00:00,  1.50it/s]\n"
     ]
    },
    {
     "name": "stdout",
     "output_type": "stream",
     "text": [
      "Epoch [49/100], Train Loss: 0.016051062615588307, Test Loss: 0.019981655292212963\n"
     ]
    },
    {
     "name": "stderr",
     "output_type": "stream",
     "text": [
      "100%|██████████| 88/88 [00:57<00:00,  1.52it/s]\n"
     ]
    },
    {
     "name": "stdout",
     "output_type": "stream",
     "text": [
      "Epoch [50/100], Train Loss: 0.01620407891459763, Test Loss: 0.019856491145522643\n"
     ]
    },
    {
     "name": "stderr",
     "output_type": "stream",
     "text": [
      "100%|██████████| 88/88 [00:59<00:00,  1.48it/s]\n"
     ]
    },
    {
     "name": "stdout",
     "output_type": "stream",
     "text": [
      "Epoch [51/100], Train Loss: 0.016433994804339654, Test Loss: 0.021900242116923135\n"
     ]
    },
    {
     "name": "stderr",
     "output_type": "stream",
     "text": [
      "100%|██████████| 88/88 [01:00<00:00,  1.46it/s]\n"
     ]
    },
    {
     "name": "stdout",
     "output_type": "stream",
     "text": [
      "Epoch [52/100], Train Loss: 0.01615870208479464, Test Loss: 0.027649190626107156\n"
     ]
    },
    {
     "name": "stderr",
     "output_type": "stream",
     "text": [
      "100%|██████████| 88/88 [00:59<00:00,  1.47it/s]\n"
     ]
    },
    {
     "name": "stdout",
     "output_type": "stream",
     "text": [
      "Epoch [53/100], Train Loss: 0.016457242594862528, Test Loss: 0.019596230161065858\n"
     ]
    },
    {
     "name": "stderr",
     "output_type": "stream",
     "text": [
      "100%|██████████| 88/88 [00:57<00:00,  1.52it/s]\n"
     ]
    },
    {
     "name": "stdout",
     "output_type": "stream",
     "text": [
      "Epoch [54/100], Train Loss: 0.016109734858301552, Test Loss: 0.021581739963342745\n"
     ]
    },
    {
     "name": "stderr",
     "output_type": "stream",
     "text": [
      "100%|██████████| 88/88 [00:59<00:00,  1.49it/s]\n"
     ]
    },
    {
     "name": "stdout",
     "output_type": "stream",
     "text": [
      "Epoch [55/100], Train Loss: 0.015597341444597325, Test Loss: 0.02127932101332893\n"
     ]
    },
    {
     "name": "stderr",
     "output_type": "stream",
     "text": [
      "100%|██████████| 88/88 [00:58<00:00,  1.51it/s]\n"
     ]
    },
    {
     "name": "stdout",
     "output_type": "stream",
     "text": [
      "Epoch [56/100], Train Loss: 0.016030477693262088, Test Loss: 0.021169987992228318\n"
     ]
    },
    {
     "name": "stderr",
     "output_type": "stream",
     "text": [
      "100%|██████████| 88/88 [01:04<00:00,  1.36it/s]\n"
     ]
    },
    {
     "name": "stdout",
     "output_type": "stream",
     "text": [
      "Epoch [57/100], Train Loss: 0.015875669704242187, Test Loss: 0.022121607791632414\n"
     ]
    },
    {
     "name": "stderr",
     "output_type": "stream",
     "text": [
      "100%|██████████| 88/88 [01:00<00:00,  1.46it/s]\n"
     ]
    },
    {
     "name": "stdout",
     "output_type": "stream",
     "text": [
      "Epoch [58/100], Train Loss: 0.016057868932627818, Test Loss: 0.01922401797492057\n"
     ]
    },
    {
     "name": "stderr",
     "output_type": "stream",
     "text": [
      "100%|██████████| 88/88 [00:57<00:00,  1.53it/s]\n"
     ]
    },
    {
     "name": "stdout",
     "output_type": "stream",
     "text": [
      "Epoch [59/100], Train Loss: 0.016418840799650006, Test Loss: 0.020417111130276073\n"
     ]
    },
    {
     "name": "stderr",
     "output_type": "stream",
     "text": [
      "100%|██████████| 88/88 [00:57<00:00,  1.52it/s]\n"
     ]
    },
    {
     "name": "stdout",
     "output_type": "stream",
     "text": [
      "Epoch [60/100], Train Loss: 0.015622378580949524, Test Loss: 0.02130759177574267\n"
     ]
    },
    {
     "name": "stderr",
     "output_type": "stream",
     "text": [
      "100%|██████████| 88/88 [00:57<00:00,  1.52it/s]\n"
     ]
    },
    {
     "name": "stdout",
     "output_type": "stream",
     "text": [
      "Epoch [61/100], Train Loss: 0.015971953472630543, Test Loss: 0.0200077046174556\n"
     ]
    },
    {
     "name": "stderr",
     "output_type": "stream",
     "text": [
      "100%|██████████| 88/88 [00:58<00:00,  1.51it/s]\n"
     ]
    },
    {
     "name": "stdout",
     "output_type": "stream",
     "text": [
      "Epoch [62/100], Train Loss: 0.015846851916814394, Test Loss: 0.02074914313076685\n"
     ]
    },
    {
     "name": "stderr",
     "output_type": "stream",
     "text": [
      "100%|██████████| 88/88 [00:58<00:00,  1.49it/s]\n"
     ]
    },
    {
     "name": "stdout",
     "output_type": "stream",
     "text": [
      "Epoch [63/100], Train Loss: 0.015720657475123353, Test Loss: 0.019319056494471926\n"
     ]
    },
    {
     "name": "stderr",
     "output_type": "stream",
     "text": [
      "100%|██████████| 88/88 [00:58<00:00,  1.50it/s]\n"
     ]
    },
    {
     "name": "stdout",
     "output_type": "stream",
     "text": [
      "Epoch [64/100], Train Loss: 0.01571424774275246, Test Loss: 0.02537685465843727\n"
     ]
    },
    {
     "name": "stderr",
     "output_type": "stream",
     "text": [
      "100%|██████████| 88/88 [00:57<00:00,  1.53it/s]\n"
     ]
    },
    {
     "name": "stdout",
     "output_type": "stream",
     "text": [
      "Epoch [65/100], Train Loss: 0.015580277329056778, Test Loss: 0.022638481808826327\n"
     ]
    },
    {
     "name": "stderr",
     "output_type": "stream",
     "text": [
      "100%|██████████| 88/88 [00:57<00:00,  1.54it/s]\n"
     ]
    },
    {
     "name": "stdout",
     "output_type": "stream",
     "text": [
      "Epoch [66/100], Train Loss: 0.015675860615870493, Test Loss: 0.0212403714346389\n"
     ]
    },
    {
     "name": "stderr",
     "output_type": "stream",
     "text": [
      "100%|██████████| 88/88 [00:56<00:00,  1.55it/s]\n"
     ]
    },
    {
     "name": "stdout",
     "output_type": "stream",
     "text": [
      "Epoch [67/100], Train Loss: 0.01575519274708561, Test Loss: 0.0233716672907273\n"
     ]
    },
    {
     "name": "stderr",
     "output_type": "stream",
     "text": [
      "100%|██████████| 88/88 [00:57<00:00,  1.53it/s]\n"
     ]
    },
    {
     "name": "stdout",
     "output_type": "stream",
     "text": [
      "Epoch [68/100], Train Loss: 0.015642760903574526, Test Loss: 0.01983445797426005\n"
     ]
    },
    {
     "name": "stderr",
     "output_type": "stream",
     "text": [
      "100%|██████████| 88/88 [00:56<00:00,  1.56it/s]\n"
     ]
    },
    {
     "name": "stdout",
     "output_type": "stream",
     "text": [
      "Epoch [69/100], Train Loss: 0.01580701316495172, Test Loss: 0.022197866928763688\n"
     ]
    },
    {
     "name": "stderr",
     "output_type": "stream",
     "text": [
      "100%|██████████| 88/88 [00:56<00:00,  1.55it/s]\n"
     ]
    },
    {
     "name": "stdout",
     "output_type": "stream",
     "text": [
      "Epoch [70/100], Train Loss: 0.015649746796539563, Test Loss: 0.021972639641414087\n"
     ]
    },
    {
     "name": "stderr",
     "output_type": "stream",
     "text": [
      "100%|██████████| 88/88 [00:55<00:00,  1.57it/s]\n"
     ]
    },
    {
     "name": "stdout",
     "output_type": "stream",
     "text": [
      "Epoch [71/100], Train Loss: 0.01533682841214944, Test Loss: 0.021428313688375056\n"
     ]
    },
    {
     "name": "stderr",
     "output_type": "stream",
     "text": [
      "100%|██████████| 88/88 [00:55<00:00,  1.57it/s]\n"
     ]
    },
    {
     "name": "stdout",
     "output_type": "stream",
     "text": [
      "Epoch [72/100], Train Loss: 0.015568634368140589, Test Loss: 0.019147328566759825\n"
     ]
    },
    {
     "name": "stderr",
     "output_type": "stream",
     "text": [
      "100%|██████████| 88/88 [00:55<00:00,  1.59it/s]\n"
     ]
    },
    {
     "name": "stdout",
     "output_type": "stream",
     "text": [
      "Epoch [73/100], Train Loss: 0.015211138260466132, Test Loss: 0.020601277356036007\n"
     ]
    },
    {
     "name": "stderr",
     "output_type": "stream",
     "text": [
      "100%|██████████| 88/88 [00:55<00:00,  1.58it/s]\n"
     ]
    },
    {
     "name": "stdout",
     "output_type": "stream",
     "text": [
      "Epoch [74/100], Train Loss: 0.015380718501877378, Test Loss: 0.020542183929743867\n"
     ]
    },
    {
     "name": "stderr",
     "output_type": "stream",
     "text": [
      "100%|██████████| 88/88 [00:56<00:00,  1.57it/s]\n"
     ]
    },
    {
     "name": "stdout",
     "output_type": "stream",
     "text": [
      "Epoch [75/100], Train Loss: 0.015447062789462507, Test Loss: 0.019723078856865566\n"
     ]
    },
    {
     "name": "stderr",
     "output_type": "stream",
     "text": [
      "100%|██████████| 88/88 [00:56<00:00,  1.57it/s]\n"
     ]
    },
    {
     "name": "stdout",
     "output_type": "stream",
     "text": [
      "Epoch [76/100], Train Loss: 0.015124183349226687, Test Loss: 0.019900993017169338\n"
     ]
    },
    {
     "name": "stderr",
     "output_type": "stream",
     "text": [
      "100%|██████████| 88/88 [00:55<00:00,  1.58it/s]\n"
     ]
    },
    {
     "name": "stdout",
     "output_type": "stream",
     "text": [
      "Epoch [77/100], Train Loss: 0.015306308526884426, Test Loss: 0.021436112855250638\n"
     ]
    },
    {
     "name": "stderr",
     "output_type": "stream",
     "text": [
      "100%|██████████| 88/88 [00:56<00:00,  1.55it/s]\n"
     ]
    },
    {
     "name": "stdout",
     "output_type": "stream",
     "text": [
      "Epoch [78/100], Train Loss: 0.015435594102283094, Test Loss: 0.021591553503337007\n"
     ]
    },
    {
     "name": "stderr",
     "output_type": "stream",
     "text": [
      "100%|██████████| 88/88 [00:56<00:00,  1.56it/s]\n"
     ]
    },
    {
     "name": "stdout",
     "output_type": "stream",
     "text": [
      "Epoch [79/100], Train Loss: 0.015084975176829506, Test Loss: 0.020599810251345236\n"
     ]
    },
    {
     "name": "stderr",
     "output_type": "stream",
     "text": [
      "100%|██████████| 88/88 [00:55<00:00,  1.57it/s]\n"
     ]
    },
    {
     "name": "stdout",
     "output_type": "stream",
     "text": [
      "Epoch [80/100], Train Loss: 0.015067757398355752, Test Loss: 0.022106731582122546\n"
     ]
    },
    {
     "name": "stderr",
     "output_type": "stream",
     "text": [
      "100%|██████████| 88/88 [00:56<00:00,  1.56it/s]\n"
     ]
    },
    {
     "name": "stdout",
     "output_type": "stream",
     "text": [
      "Epoch [81/100], Train Loss: 0.014913941749413922, Test Loss: 0.020457586583991844\n"
     ]
    },
    {
     "name": "stderr",
     "output_type": "stream",
     "text": [
      "100%|██████████| 88/88 [00:55<00:00,  1.57it/s]\n"
     ]
    },
    {
     "name": "stdout",
     "output_type": "stream",
     "text": [
      "Epoch [82/100], Train Loss: 0.015194974035363306, Test Loss: 0.02088103264880677\n"
     ]
    },
    {
     "name": "stderr",
     "output_type": "stream",
     "text": [
      "100%|██████████| 88/88 [00:56<00:00,  1.57it/s]\n"
     ]
    },
    {
     "name": "stdout",
     "output_type": "stream",
     "text": [
      "Epoch [83/100], Train Loss: 0.01495309080928564, Test Loss: 0.019276451455273975\n"
     ]
    },
    {
     "name": "stderr",
     "output_type": "stream",
     "text": [
      "100%|██████████| 88/88 [00:55<00:00,  1.58it/s]\n"
     ]
    },
    {
     "name": "stdout",
     "output_type": "stream",
     "text": [
      "Epoch [84/100], Train Loss: 0.015284358661367813, Test Loss: 0.021022819234834362\n"
     ]
    },
    {
     "name": "stderr",
     "output_type": "stream",
     "text": [
      "100%|██████████| 88/88 [00:56<00:00,  1.55it/s]\n"
     ]
    },
    {
     "name": "stdout",
     "output_type": "stream",
     "text": [
      "Epoch [85/100], Train Loss: 0.014916108593090692, Test Loss: 0.020490937458816916\n"
     ]
    },
    {
     "name": "stderr",
     "output_type": "stream",
     "text": [
      "100%|██████████| 88/88 [00:59<00:00,  1.48it/s]\n"
     ]
    },
    {
     "name": "stdout",
     "output_type": "stream",
     "text": [
      "Epoch [86/100], Train Loss: 0.015072118501517583, Test Loss: 0.021111057663802058\n"
     ]
    },
    {
     "name": "stderr",
     "output_type": "stream",
     "text": [
      "100%|██████████| 88/88 [00:58<00:00,  1.51it/s]\n"
     ]
    },
    {
     "name": "stdout",
     "output_type": "stream",
     "text": [
      "Epoch [87/100], Train Loss: 0.014859267775054004, Test Loss: 0.019609239612085123\n"
     ]
    },
    {
     "name": "stderr",
     "output_type": "stream",
     "text": [
      "100%|██████████| 88/88 [00:56<00:00,  1.57it/s]\n"
     ]
    },
    {
     "name": "stdout",
     "output_type": "stream",
     "text": [
      "Epoch [88/100], Train Loss: 0.015073414479213005, Test Loss: 0.024972175325577457\n"
     ]
    },
    {
     "name": "stderr",
     "output_type": "stream",
     "text": [
      "100%|██████████| 88/88 [01:01<00:00,  1.42it/s]\n"
     ]
    },
    {
     "name": "stdout",
     "output_type": "stream",
     "text": [
      "Epoch [89/100], Train Loss: 0.015026693401688879, Test Loss: 0.01958139246562496\n"
     ]
    },
    {
     "name": "stderr",
     "output_type": "stream",
     "text": [
      "100%|██████████| 88/88 [00:56<00:00,  1.56it/s]\n"
     ]
    },
    {
     "name": "stdout",
     "output_type": "stream",
     "text": [
      "Epoch [90/100], Train Loss: 0.014863952105356888, Test Loss: 0.021863013699961204\n"
     ]
    },
    {
     "name": "stderr",
     "output_type": "stream",
     "text": [
      "100%|██████████| 88/88 [00:57<00:00,  1.54it/s]\n"
     ]
    },
    {
     "name": "stdout",
     "output_type": "stream",
     "text": [
      "Epoch [91/100], Train Loss: 0.014997934382832185, Test Loss: 0.023657252876243245\n"
     ]
    },
    {
     "name": "stderr",
     "output_type": "stream",
     "text": [
      "100%|██████████| 88/88 [00:57<00:00,  1.54it/s]\n"
     ]
    },
    {
     "name": "stdout",
     "output_type": "stream",
     "text": [
      "Epoch [92/100], Train Loss: 0.014676775158890947, Test Loss: 0.021342362587650616\n"
     ]
    },
    {
     "name": "stderr",
     "output_type": "stream",
     "text": [
      "100%|██████████| 88/88 [00:55<00:00,  1.58it/s]\n"
     ]
    },
    {
     "name": "stdout",
     "output_type": "stream",
     "text": [
      "Epoch [93/100], Train Loss: 0.014655528441918168, Test Loss: 0.02187836932716891\n"
     ]
    },
    {
     "name": "stderr",
     "output_type": "stream",
     "text": [
      "100%|██████████| 88/88 [00:55<00:00,  1.60it/s]\n"
     ]
    },
    {
     "name": "stdout",
     "output_type": "stream",
     "text": [
      "Epoch [94/100], Train Loss: 0.014746452353640714, Test Loss: 0.02019717579241842\n"
     ]
    },
    {
     "name": "stderr",
     "output_type": "stream",
     "text": [
      "100%|██████████| 88/88 [00:55<00:00,  1.59it/s]\n"
     ]
    },
    {
     "name": "stdout",
     "output_type": "stream",
     "text": [
      "Epoch [95/100], Train Loss: 0.014668978158045898, Test Loss: 0.020618005422875285\n"
     ]
    },
    {
     "name": "stderr",
     "output_type": "stream",
     "text": [
      "100%|██████████| 88/88 [00:57<00:00,  1.54it/s]\n"
     ]
    },
    {
     "name": "stdout",
     "output_type": "stream",
     "text": [
      "Epoch [96/100], Train Loss: 0.014471871937117116, Test Loss: 0.020249539520591497\n"
     ]
    },
    {
     "name": "stderr",
     "output_type": "stream",
     "text": [
      "100%|██████████| 88/88 [00:59<00:00,  1.49it/s]\n"
     ]
    },
    {
     "name": "stdout",
     "output_type": "stream",
     "text": [
      "Epoch [97/100], Train Loss: 0.014656295597722585, Test Loss: 0.022228010348044336\n"
     ]
    },
    {
     "name": "stderr",
     "output_type": "stream",
     "text": [
      "100%|██████████| 88/88 [00:58<00:00,  1.50it/s]\n"
     ]
    },
    {
     "name": "stdout",
     "output_type": "stream",
     "text": [
      "Epoch [98/100], Train Loss: 0.014466086619491265, Test Loss: 0.01949530156950156\n"
     ]
    },
    {
     "name": "stderr",
     "output_type": "stream",
     "text": [
      "100%|██████████| 88/88 [00:58<00:00,  1.51it/s]\n"
     ]
    },
    {
     "name": "stdout",
     "output_type": "stream",
     "text": [
      "Epoch [99/100], Train Loss: 0.014296139897355302, Test Loss: 0.020464008674025536\n"
     ]
    },
    {
     "name": "stderr",
     "output_type": "stream",
     "text": [
      "100%|██████████| 88/88 [00:58<00:00,  1.51it/s]\n"
     ]
    },
    {
     "name": "stdout",
     "output_type": "stream",
     "text": [
      "Epoch [100/100], Train Loss: 0.01480963271619244, Test Loss: 0.01877915777731687\n"
     ]
    }
   ],
   "source": [
    "# Start training\n",
    "train_model(model, train_loader, test_loader, epochs=100, lr=0.001)"
   ]
  },
  {
   "cell_type": "code",
   "execution_count": 13,
   "id": "e979d609",
   "metadata": {
    "execution": {
     "iopub.execute_input": "2024-10-09T05:08:39.101860Z",
     "iopub.status.busy": "2024-10-09T05:08:39.101452Z",
     "iopub.status.idle": "2024-10-09T05:08:39.106361Z",
     "shell.execute_reply": "2024-10-09T05:08:39.105370Z"
    },
    "papermill": {
     "duration": 0.863231,
     "end_time": "2024-10-09T05:08:39.108390",
     "exception": false,
     "start_time": "2024-10-09T05:08:38.245159",
     "status": "completed"
    },
    "tags": []
   },
   "outputs": [],
   "source": [
    "import os\n",
    "from PIL import Image"
   ]
  },
  {
   "cell_type": "code",
   "execution_count": 14,
   "id": "ddfed924",
   "metadata": {
    "execution": {
     "iopub.execute_input": "2024-10-09T05:08:40.713692Z",
     "iopub.status.busy": "2024-10-09T05:08:40.713271Z",
     "iopub.status.idle": "2024-10-09T05:08:40.725907Z",
     "shell.execute_reply": "2024-10-09T05:08:40.724866Z"
    },
    "papermill": {
     "duration": 0.813913,
     "end_time": "2024-10-09T05:08:40.728229",
     "exception": false,
     "start_time": "2024-10-09T05:08:39.914316",
     "status": "completed"
    },
    "tags": []
   },
   "outputs": [],
   "source": [
    "def evaluate_model(model, test_loader, output_dir=\"output_images\"):\n",
    "    model.eval()\n",
    "\n",
    "    # Ensure the output directory exists\n",
    "    if not os.path.exists(output_dir):\n",
    "        os.makedirs(output_dir)\n",
    "    \n",
    "    # Initialize lists to store results\n",
    "    psnr_list = []\n",
    "    ssim_list = []\n",
    "    mse_list = []\n",
    "\n",
    "    with torch.no_grad():\n",
    "        for batch_idx, (noisy, clean) in enumerate(test_loader):\n",
    "            noisy, clean = noisy.to(device), clean.to(device)\n",
    "            reconstructed = model(noisy)\n",
    "            \n",
    "            # Iterate through the batch to process each image individually\n",
    "            for i in range(reconstructed.size(0)):  # Loop over batch size\n",
    "                output_np = reconstructed[i].cpu().numpy().transpose(1, 2, 0)\n",
    "                clean_np = clean[i].cpu().numpy().transpose(1, 2, 0)\n",
    "\n",
    "                # Save reconstructed image\n",
    "                reconstructed_img = (output_np * 255).astype(np.uint8)  # Convert to uint8 for saving\n",
    "                img = Image.fromarray(reconstructed_img)\n",
    "                img_save_path = os.path.join(output_dir, f\"enhanced_{batch_idx}_{i}.png\")\n",
    "                img.save(img_save_path)\n",
    "                \n",
    "                # Calculate PSNR\n",
    "                psnr = peak_signal_noise_ratio(clean_np, output_np, data_range=1.0)\n",
    "                \n",
    "                # Calculate SSIM with explicit data_range and win_size\n",
    "                ssim = structural_similarity(clean_np, output_np, multichannel=True, win_size=3, data_range=1.0)\n",
    "                \n",
    "                # Calculate MSE\n",
    "                mse = mean_squared_error(clean_np, output_np)\n",
    "\n",
    "                # Append the results\n",
    "                psnr_list.append(psnr)\n",
    "                ssim_list.append(ssim)\n",
    "                mse_list.append(mse)\n",
    "\n",
    "        print(f'Average PSNR: {sum(psnr_list)/len(psnr_list):.4f}')\n",
    "        print(f'Average SSIM: {sum(ssim_list)/len(ssim_list):.4f}')\n",
    "        print(f'Average MSE: {sum(mse_list)/len(mse_list):.4f}')\n"
   ]
  },
  {
   "cell_type": "code",
   "execution_count": 15,
   "id": "d52b30b7",
   "metadata": {
    "execution": {
     "iopub.execute_input": "2024-10-09T05:08:42.393346Z",
     "iopub.status.busy": "2024-10-09T05:08:42.392914Z",
     "iopub.status.idle": "2024-10-09T05:09:51.415398Z",
     "shell.execute_reply": "2024-10-09T05:09:51.414422Z"
    },
    "papermill": {
     "duration": 70.665756,
     "end_time": "2024-10-09T05:09:52.244970",
     "exception": false,
     "start_time": "2024-10-09T05:08:41.579214",
     "status": "completed"
    },
    "tags": []
   },
   "outputs": [
    {
     "name": "stdout",
     "output_type": "stream",
     "text": [
      "Average PSNR: 18.7001\n",
      "Average SSIM: 0.6258\n",
      "Average MSE: 0.0187\n"
     ]
    }
   ],
   "source": [
    "# Evaluate the model\n",
    "evaluate_model(model, test_loader)"
   ]
  },
  {
   "cell_type": "code",
   "execution_count": null,
   "id": "24536656",
   "metadata": {
    "papermill": {
     "duration": 0.804029,
     "end_time": "2024-10-09T05:09:53.822377",
     "exception": false,
     "start_time": "2024-10-09T05:09:53.018348",
     "status": "completed"
    },
    "tags": []
   },
   "outputs": [],
   "source": []
  }
 ],
 "metadata": {
  "kaggle": {
   "accelerator": "none",
   "dataSources": [
    {
     "datasetId": 5826927,
     "sourceId": 9561737,
     "sourceType": "datasetVersion"
    }
   ],
   "dockerImageVersionId": 30786,
   "isGpuEnabled": false,
   "isInternetEnabled": true,
   "language": "python",
   "sourceType": "notebook"
  },
  "kernelspec": {
   "display_name": "Python 3",
   "language": "python",
   "name": "python3"
  },
  "language_info": {
   "codemirror_mode": {
    "name": "ipython",
    "version": 3
   },
   "file_extension": ".py",
   "mimetype": "text/x-python",
   "name": "python",
   "nbconvert_exporter": "python",
   "pygments_lexer": "ipython3",
   "version": "3.10.14"
  },
  "papermill": {
   "default_parameters": {},
   "duration": 7187.574276,
   "end_time": "2024-10-09T05:09:56.208925",
   "environment_variables": {},
   "exception": null,
   "input_path": "__notebook__.ipynb",
   "output_path": "__notebook__.ipynb",
   "parameters": {},
   "start_time": "2024-10-09T03:10:08.634649",
   "version": "2.6.0"
  }
 },
 "nbformat": 4,
 "nbformat_minor": 5
}
