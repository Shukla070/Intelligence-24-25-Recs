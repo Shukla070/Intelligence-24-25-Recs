{
 "cells": [
  {
   "cell_type": "code",
   "execution_count": 1,
   "id": "80dd10d7",
   "metadata": {
    "_cell_guid": "b1076dfc-b9ad-4769-8c92-a6c4dae69d19",
    "_uuid": "8f2839f25d086af736a60e9eeb907d3b93b6e0e5",
    "execution": {
     "iopub.execute_input": "2024-10-09T23:24:16.894933Z",
     "iopub.status.busy": "2024-10-09T23:24:16.894136Z",
     "iopub.status.idle": "2024-10-09T23:24:17.631892Z",
     "shell.execute_reply": "2024-10-09T23:24:17.630885Z"
    },
    "papermill": {
     "duration": 0.745573,
     "end_time": "2024-10-09T23:24:17.634168",
     "exception": false,
     "start_time": "2024-10-09T23:24:16.888595",
     "status": "completed"
    },
    "tags": []
   },
   "outputs": [],
   "source": [
    "# This Python 3 environment comes with many helpful analytics libraries installed\n",
    "# It is defined by the kaggle/python Docker image: https://github.com/kaggle/docker-python\n",
    "# For example, here's several helpful packages to load\n",
    "\n",
    "import numpy as np # linear algebra\n",
    "import pandas as pd # data processing, CSV file I/O (e.g. pd.read_csv)\n",
    "\n",
    "# Input data files are available in the read-only \"../input/\" directory\n",
    "# For example, running this (by clicking run or pressing Shift+Enter) will list all files under the input directory\n",
    "\n",
    "import os\n",
    "# for dirname, _, filenames in os.walk('/kaggle/input'):\n",
    "#     for filename in filenames:\n",
    "#         print(os.path.join(dirname, filename))\n",
    "\n",
    "# You can write up to 20GB to the current directory (/kaggle/working/) that gets preserved as output when you create a version using \"Save & Run All\" \n",
    "# You can also write temporary files to /kaggle/temp/, but they won't be saved outside of the current session"
   ]
  },
  {
   "cell_type": "code",
   "execution_count": 2,
   "id": "71c1c7bc",
   "metadata": {
    "execution": {
     "iopub.execute_input": "2024-10-09T23:24:17.643472Z",
     "iopub.status.busy": "2024-10-09T23:24:17.643061Z",
     "iopub.status.idle": "2024-10-09T23:24:22.445223Z",
     "shell.execute_reply": "2024-10-09T23:24:22.444222Z"
    },
    "papermill": {
     "duration": 4.809368,
     "end_time": "2024-10-09T23:24:22.447809",
     "exception": false,
     "start_time": "2024-10-09T23:24:17.638441",
     "status": "completed"
    },
    "tags": []
   },
   "outputs": [],
   "source": [
    "import torch\n",
    "import torch.nn as nn\n",
    "import torch.optim as optim\n",
    "from torchvision import datasets, transforms\n",
    "from torch.utils.data import DataLoader\n",
    "from torchvision.utils import save_image"
   ]
  },
  {
   "cell_type": "code",
   "execution_count": 3,
   "id": "2473f456",
   "metadata": {
    "execution": {
     "iopub.execute_input": "2024-10-09T23:24:22.456935Z",
     "iopub.status.busy": "2024-10-09T23:24:22.456508Z",
     "iopub.status.idle": "2024-10-09T23:24:22.523792Z",
     "shell.execute_reply": "2024-10-09T23:24:22.522863Z"
    },
    "papermill": {
     "duration": 0.073945,
     "end_time": "2024-10-09T23:24:22.525733",
     "exception": false,
     "start_time": "2024-10-09T23:24:22.451788",
     "status": "completed"
    },
    "tags": []
   },
   "outputs": [
    {
     "data": {
      "text/plain": [
       "device(type='cuda')"
      ]
     },
     "execution_count": 3,
     "metadata": {},
     "output_type": "execute_result"
    }
   ],
   "source": [
    "device = torch.device(\"cuda\" if torch.cuda.is_available() else \"cpu\")\n",
    "device"
   ]
  },
  {
   "cell_type": "code",
   "execution_count": 4,
   "id": "0638c245",
   "metadata": {
    "execution": {
     "iopub.execute_input": "2024-10-09T23:24:22.534600Z",
     "iopub.status.busy": "2024-10-09T23:24:22.534236Z",
     "iopub.status.idle": "2024-10-09T23:24:22.538581Z",
     "shell.execute_reply": "2024-10-09T23:24:22.537727Z"
    },
    "papermill": {
     "duration": 0.010804,
     "end_time": "2024-10-09T23:24:22.540435",
     "exception": false,
     "start_time": "2024-10-09T23:24:22.529631",
     "status": "completed"
    },
    "tags": []
   },
   "outputs": [],
   "source": [
    "transform = transforms.Compose([\n",
    "    transforms.ToTensor(),\n",
    "    transforms.Normalize([0.5], [0.5])  # Normalize between [-1, 1]\n",
    "])"
   ]
  },
  {
   "cell_type": "code",
   "execution_count": 5,
   "id": "0e5da541",
   "metadata": {
    "execution": {
     "iopub.execute_input": "2024-10-09T23:24:22.549000Z",
     "iopub.status.busy": "2024-10-09T23:24:22.548718Z",
     "iopub.status.idle": "2024-10-09T23:24:27.680868Z",
     "shell.execute_reply": "2024-10-09T23:24:27.679852Z"
    },
    "papermill": {
     "duration": 5.139607,
     "end_time": "2024-10-09T23:24:27.683779",
     "exception": false,
     "start_time": "2024-10-09T23:24:22.544172",
     "status": "completed"
    },
    "tags": []
   },
   "outputs": [
    {
     "name": "stdout",
     "output_type": "stream",
     "text": [
      "Downloading http://yann.lecun.com/exdb/mnist/train-images-idx3-ubyte.gz\n",
      "Failed to download (trying next):\n",
      "HTTP Error 403: Forbidden\n",
      "\n",
      "Downloading https://ossci-datasets.s3.amazonaws.com/mnist/train-images-idx3-ubyte.gz\n",
      "Downloading https://ossci-datasets.s3.amazonaws.com/mnist/train-images-idx3-ubyte.gz to ./data/MNIST/raw/train-images-idx3-ubyte.gz\n"
     ]
    },
    {
     "name": "stderr",
     "output_type": "stream",
     "text": [
      "100%|██████████| 9912422/9912422 [00:00<00:00, 16020227.81it/s]\n"
     ]
    },
    {
     "name": "stdout",
     "output_type": "stream",
     "text": [
      "Extracting ./data/MNIST/raw/train-images-idx3-ubyte.gz to ./data/MNIST/raw\n",
      "\n",
      "Downloading http://yann.lecun.com/exdb/mnist/train-labels-idx1-ubyte.gz\n",
      "Failed to download (trying next):\n",
      "HTTP Error 403: Forbidden\n",
      "\n",
      "Downloading https://ossci-datasets.s3.amazonaws.com/mnist/train-labels-idx1-ubyte.gz\n",
      "Downloading https://ossci-datasets.s3.amazonaws.com/mnist/train-labels-idx1-ubyte.gz to ./data/MNIST/raw/train-labels-idx1-ubyte.gz\n"
     ]
    },
    {
     "name": "stderr",
     "output_type": "stream",
     "text": [
      "100%|██████████| 28881/28881 [00:00<00:00, 467166.07it/s]\n"
     ]
    },
    {
     "name": "stdout",
     "output_type": "stream",
     "text": [
      "Extracting ./data/MNIST/raw/train-labels-idx1-ubyte.gz to ./data/MNIST/raw\n",
      "\n",
      "Downloading http://yann.lecun.com/exdb/mnist/t10k-images-idx3-ubyte.gz\n",
      "Failed to download (trying next):\n",
      "HTTP Error 403: Forbidden\n",
      "\n",
      "Downloading https://ossci-datasets.s3.amazonaws.com/mnist/t10k-images-idx3-ubyte.gz\n",
      "Downloading https://ossci-datasets.s3.amazonaws.com/mnist/t10k-images-idx3-ubyte.gz to ./data/MNIST/raw/t10k-images-idx3-ubyte.gz\n"
     ]
    },
    {
     "name": "stderr",
     "output_type": "stream",
     "text": [
      "100%|██████████| 1648877/1648877 [00:00<00:00, 4388308.87it/s]\n"
     ]
    },
    {
     "name": "stdout",
     "output_type": "stream",
     "text": [
      "Extracting ./data/MNIST/raw/t10k-images-idx3-ubyte.gz to ./data/MNIST/raw\n",
      "\n",
      "Downloading http://yann.lecun.com/exdb/mnist/t10k-labels-idx1-ubyte.gz\n",
      "Failed to download (trying next):\n",
      "HTTP Error 403: Forbidden\n",
      "\n",
      "Downloading https://ossci-datasets.s3.amazonaws.com/mnist/t10k-labels-idx1-ubyte.gz\n",
      "Downloading https://ossci-datasets.s3.amazonaws.com/mnist/t10k-labels-idx1-ubyte.gz to ./data/MNIST/raw/t10k-labels-idx1-ubyte.gz\n"
     ]
    },
    {
     "name": "stderr",
     "output_type": "stream",
     "text": [
      "100%|██████████| 4542/4542 [00:00<00:00, 2737144.94it/s]"
     ]
    },
    {
     "name": "stdout",
     "output_type": "stream",
     "text": [
      "Extracting ./data/MNIST/raw/t10k-labels-idx1-ubyte.gz to ./data/MNIST/raw\n",
      "\n"
     ]
    },
    {
     "name": "stderr",
     "output_type": "stream",
     "text": [
      "\n"
     ]
    }
   ],
   "source": [
    "train_dataset = datasets.MNIST(root='./data', train=True, download=True, transform=transform)\n",
    "train_loader = DataLoader(train_dataset, batch_size=64, shuffle=True)"
   ]
  },
  {
   "cell_type": "code",
   "execution_count": 6,
   "id": "b16cabd0",
   "metadata": {
    "execution": {
     "iopub.execute_input": "2024-10-09T23:24:27.701919Z",
     "iopub.status.busy": "2024-10-09T23:24:27.701526Z",
     "iopub.status.idle": "2024-10-09T23:24:27.709066Z",
     "shell.execute_reply": "2024-10-09T23:24:27.708264Z"
    },
    "papermill": {
     "duration": 0.0178,
     "end_time": "2024-10-09T23:24:27.710919",
     "exception": false,
     "start_time": "2024-10-09T23:24:27.693119",
     "status": "completed"
    },
    "tags": []
   },
   "outputs": [],
   "source": [
    "#Generator\n",
    "class Generator(nn.Module):\n",
    "    def __init__(self):\n",
    "        super(Generator, self).__init__()\n",
    "        self.model = nn.Sequential(\n",
    "            nn.Linear(100, 256),\n",
    "            nn.ReLU(True),\n",
    "            nn.Linear(256, 512),\n",
    "            nn.ReLU(True),\n",
    "            nn.Linear(512, 1024),\n",
    "            nn.ReLU(True),\n",
    "            nn.Linear(1024, 28 * 28),\n",
    "            nn.Tanh()  # Output scaled between [-1, 1]\n",
    "        )\n",
    "    \n",
    "    def forward(self, x):\n",
    "        x = self.model(x)\n",
    "        x = x.view(x.size(0), 1, 28, 28)  # Reshape to image dimensions\n",
    "        return x"
   ]
  },
  {
   "cell_type": "code",
   "execution_count": 7,
   "id": "eb441bc4",
   "metadata": {
    "execution": {
     "iopub.execute_input": "2024-10-09T23:24:27.724992Z",
     "iopub.status.busy": "2024-10-09T23:24:27.724700Z",
     "iopub.status.idle": "2024-10-09T23:24:27.733525Z",
     "shell.execute_reply": "2024-10-09T23:24:27.732664Z"
    },
    "papermill": {
     "duration": 0.01816,
     "end_time": "2024-10-09T23:24:27.735435",
     "exception": false,
     "start_time": "2024-10-09T23:24:27.717275",
     "status": "completed"
    },
    "tags": []
   },
   "outputs": [],
   "source": [
    "#Discriminator\n",
    "class Discriminator(nn.Module):\n",
    "    def __init__(self):\n",
    "        super(Discriminator, self).__init__()\n",
    "        self.model = nn.Sequential(\n",
    "            nn.Linear(28 * 28, 1024),\n",
    "            nn.LeakyReLU(0.2, inplace=True),\n",
    "            nn.Dropout(0.3),\n",
    "            nn.Linear(1024, 512),\n",
    "            nn.LeakyReLU(0.2, inplace=True),\n",
    "            nn.Dropout(0.3),\n",
    "            nn.Linear(512, 256),\n",
    "            nn.LeakyReLU(0.2, inplace=True),\n",
    "            nn.Dropout(0.3),\n",
    "            nn.Linear(256, 1),\n",
    "            nn.Sigmoid()  # Output between [0, 1]\n",
    "        )\n",
    "    \n",
    "    def forward(self, x):\n",
    "        x = x.view(x.size(0), 28 * 28)  # Flatten the input\n",
    "        x = self.model(x)\n",
    "        return x"
   ]
  },
  {
   "cell_type": "code",
   "execution_count": 8,
   "id": "36f086be",
   "metadata": {
    "execution": {
     "iopub.execute_input": "2024-10-09T23:24:27.749471Z",
     "iopub.status.busy": "2024-10-09T23:24:27.749157Z",
     "iopub.status.idle": "2024-10-09T23:24:27.943698Z",
     "shell.execute_reply": "2024-10-09T23:24:27.942892Z"
    },
    "papermill": {
     "duration": 0.204085,
     "end_time": "2024-10-09T23:24:27.946025",
     "exception": false,
     "start_time": "2024-10-09T23:24:27.741940",
     "status": "completed"
    },
    "tags": []
   },
   "outputs": [],
   "source": [
    "# Initialize the Generator and Discriminator\n",
    "generator = Generator().to(device)\n",
    "discriminator = Discriminator().to(device)\n",
    "\n",
    "# Optimizers\n",
    "optimizer_G = optim.Adam(generator.parameters(), lr=0.0002)\n",
    "optimizer_D = optim.Adam(discriminator.parameters(), lr=0.0002)\n",
    "\n",
    "# Loss function (Binary Cross Entropy Loss)\n",
    "criterion = nn.BCELoss()"
   ]
  },
  {
   "cell_type": "code",
   "execution_count": 9,
   "id": "18b0539a",
   "metadata": {
    "execution": {
     "iopub.execute_input": "2024-10-09T23:24:27.960197Z",
     "iopub.status.busy": "2024-10-09T23:24:27.959905Z",
     "iopub.status.idle": "2024-10-09T23:38:36.430102Z",
     "shell.execute_reply": "2024-10-09T23:38:36.429109Z"
    },
    "papermill": {
     "duration": 848.48949,
     "end_time": "2024-10-09T23:38:36.442134",
     "exception": false,
     "start_time": "2024-10-09T23:24:27.952644",
     "status": "completed"
    },
    "tags": []
   },
   "outputs": [
    {
     "name": "stdout",
     "output_type": "stream",
     "text": [
      "Epoch [1/50] | D Loss: 0.3784 | G Loss: 3.7614\n",
      "Epoch [2/50] | D Loss: 0.6523 | G Loss: 1.6349\n",
      "Epoch [3/50] | D Loss: 0.4870 | G Loss: 2.9242\n",
      "Epoch [4/50] | D Loss: 0.4322 | G Loss: 4.0320\n",
      "Epoch [5/50] | D Loss: 0.3495 | G Loss: 3.1899\n",
      "Epoch [6/50] | D Loss: 0.3851 | G Loss: 2.3943\n",
      "Epoch [7/50] | D Loss: 0.5256 | G Loss: 3.4424\n",
      "Epoch [8/50] | D Loss: 0.5313 | G Loss: 2.3141\n",
      "Epoch [9/50] | D Loss: 0.2960 | G Loss: 2.2898\n",
      "Epoch [10/50] | D Loss: 0.4419 | G Loss: 2.5318\n",
      "Epoch [11/50] | D Loss: 0.3611 | G Loss: 2.9232\n",
      "Epoch [12/50] | D Loss: 0.4444 | G Loss: 2.5243\n",
      "Epoch [13/50] | D Loss: 0.3998 | G Loss: 2.3706\n",
      "Epoch [14/50] | D Loss: 0.7718 | G Loss: 2.1743\n",
      "Epoch [15/50] | D Loss: 0.7300 | G Loss: 2.1707\n",
      "Epoch [16/50] | D Loss: 0.7669 | G Loss: 1.4152\n",
      "Epoch [17/50] | D Loss: 0.8957 | G Loss: 1.8828\n",
      "Epoch [18/50] | D Loss: 0.8579 | G Loss: 1.6284\n",
      "Epoch [19/50] | D Loss: 1.1064 | G Loss: 1.4009\n",
      "Epoch [20/50] | D Loss: 0.7030 | G Loss: 1.6915\n",
      "Epoch [21/50] | D Loss: 0.9767 | G Loss: 1.9674\n",
      "Epoch [22/50] | D Loss: 0.5599 | G Loss: 1.4717\n",
      "Epoch [23/50] | D Loss: 0.6764 | G Loss: 1.6298\n",
      "Epoch [24/50] | D Loss: 0.7995 | G Loss: 1.6393\n",
      "Epoch [25/50] | D Loss: 1.1184 | G Loss: 1.2075\n",
      "Epoch [26/50] | D Loss: 0.9645 | G Loss: 1.4689\n",
      "Epoch [27/50] | D Loss: 0.9085 | G Loss: 1.2495\n",
      "Epoch [28/50] | D Loss: 1.0012 | G Loss: 1.1331\n",
      "Epoch [29/50] | D Loss: 1.1361 | G Loss: 1.8767\n",
      "Epoch [30/50] | D Loss: 0.8577 | G Loss: 1.4464\n",
      "Epoch [31/50] | D Loss: 0.8450 | G Loss: 1.3020\n",
      "Epoch [32/50] | D Loss: 1.0958 | G Loss: 1.1166\n",
      "Epoch [33/50] | D Loss: 0.9879 | G Loss: 1.2140\n",
      "Epoch [34/50] | D Loss: 1.1950 | G Loss: 0.9769\n",
      "Epoch [35/50] | D Loss: 1.2026 | G Loss: 1.1493\n",
      "Epoch [36/50] | D Loss: 1.0294 | G Loss: 1.3111\n",
      "Epoch [37/50] | D Loss: 0.8706 | G Loss: 1.1171\n",
      "Epoch [38/50] | D Loss: 1.0620 | G Loss: 1.4160\n",
      "Epoch [39/50] | D Loss: 1.2104 | G Loss: 1.1159\n",
      "Epoch [40/50] | D Loss: 0.9871 | G Loss: 1.0560\n",
      "Epoch [41/50] | D Loss: 1.0690 | G Loss: 1.2277\n",
      "Epoch [42/50] | D Loss: 0.9706 | G Loss: 1.4457\n",
      "Epoch [43/50] | D Loss: 1.1306 | G Loss: 1.1822\n",
      "Epoch [44/50] | D Loss: 1.1271 | G Loss: 0.8259\n",
      "Epoch [45/50] | D Loss: 0.9867 | G Loss: 1.3239\n",
      "Epoch [46/50] | D Loss: 1.0816 | G Loss: 1.0538\n",
      "Epoch [47/50] | D Loss: 1.1159 | G Loss: 1.1539\n",
      "Epoch [48/50] | D Loss: 1.0113 | G Loss: 1.2171\n",
      "Epoch [49/50] | D Loss: 0.9212 | G Loss: 1.0569\n",
      "Epoch [50/50] | D Loss: 1.0581 | G Loss: 1.0813\n"
     ]
    }
   ],
   "source": [
    "# Number of epochs and latent vector size\n",
    "epochs = 50\n",
    "latent_dim = 100\n",
    "fixed_noise = torch.randn(64, latent_dim).to(device)  # For generating samples during training\n",
    "\n",
    "# Training Loop\n",
    "for epoch in range(epochs):\n",
    "    for batch_idx, (real_imgs, _) in enumerate(train_loader):\n",
    "        # Training Discriminator\n",
    "        real_imgs = real_imgs.to(device)\n",
    "        batch_size = real_imgs.size(0)\n",
    "        real_labels = torch.ones(batch_size, 1).to(device)  # Label 1 for real images\n",
    "        fake_labels = torch.zeros(batch_size, 1).to(device)  # Label 0 for fake images\n",
    "        \n",
    "        # Real images\n",
    "        outputs = discriminator(real_imgs)\n",
    "        d_loss_real = criterion(outputs, real_labels)\n",
    "        \n",
    "        # Fake images\n",
    "        z = torch.randn(batch_size, latent_dim).to(device)\n",
    "        fake_imgs = generator(z)\n",
    "        outputs = discriminator(fake_imgs.detach())\n",
    "        d_loss_fake = criterion(outputs, fake_labels)\n",
    "        \n",
    "        # Total discriminator loss\n",
    "        d_loss = d_loss_real + d_loss_fake\n",
    "        \n",
    "        optimizer_D.zero_grad()\n",
    "        d_loss.backward()\n",
    "        optimizer_D.step()\n",
    "        \n",
    "        # Training Generator\n",
    "        z = torch.randn(batch_size, latent_dim).to(device)\n",
    "        fake_imgs = generator(z)\n",
    "        outputs = discriminator(fake_imgs)\n",
    "        g_loss = criterion(outputs, real_labels)  # Try to fool the discriminator\n",
    "        \n",
    "        optimizer_G.zero_grad()\n",
    "        g_loss.backward()\n",
    "        optimizer_G.step()\n",
    "\n",
    "    print(f\"Epoch [{epoch+1}/{epochs}] | D Loss: {d_loss.item():.4f} | G Loss: {g_loss.item():.4f}\")\n",
    "    \n",
    "    # Save generated samples every epoch\n",
    "    if (epoch+1) % 10 == 0:\n",
    "        save_image(fake_imgs.data[:25], f\"mnist_generated_{epoch+1}.png\", nrow=5, normalize=True)"
   ]
  },
  {
   "cell_type": "code",
   "execution_count": 10,
   "id": "2491e5ee",
   "metadata": {
    "execution": {
     "iopub.execute_input": "2024-10-09T23:38:36.463838Z",
     "iopub.status.busy": "2024-10-09T23:38:36.463504Z",
     "iopub.status.idle": "2024-10-09T23:38:36.474928Z",
     "shell.execute_reply": "2024-10-09T23:38:36.474188Z"
    },
    "papermill": {
     "duration": 0.024637,
     "end_time": "2024-10-09T23:38:36.476946",
     "exception": false,
     "start_time": "2024-10-09T23:38:36.452309",
     "status": "completed"
    },
    "tags": []
   },
   "outputs": [],
   "source": [
    "# Generate and save new images after training\n",
    "z = torch.randn(64, latent_dim).to(device)\n",
    "generated_imgs = generator(z)\n",
    "save_image(generated_imgs.data[:25], \"mnist_final_generated.png\", nrow=5, normalize=True)"
   ]
  },
  {
   "cell_type": "code",
   "execution_count": null,
   "id": "35b67bb8",
   "metadata": {
    "papermill": {
     "duration": 0.009808,
     "end_time": "2024-10-09T23:38:36.496839",
     "exception": false,
     "start_time": "2024-10-09T23:38:36.487031",
     "status": "completed"
    },
    "tags": []
   },
   "outputs": [],
   "source": []
  }
 ],
 "metadata": {
  "kaggle": {
   "accelerator": "none",
   "dataSources": [],
   "dockerImageVersionId": 30787,
   "isGpuEnabled": false,
   "isInternetEnabled": true,
   "language": "python",
   "sourceType": "notebook"
  },
  "kernelspec": {
   "display_name": "Python 3",
   "language": "python",
   "name": "python3"
  },
  "language_info": {
   "codemirror_mode": {
    "name": "ipython",
    "version": 3
   },
   "file_extension": ".py",
   "mimetype": "text/x-python",
   "name": "python",
   "nbconvert_exporter": "python",
   "pygments_lexer": "ipython3",
   "version": "3.10.14"
  },
  "papermill": {
   "default_parameters": {},
   "duration": 863.676433,
   "end_time": "2024-10-09T23:38:37.827655",
   "environment_variables": {},
   "exception": null,
   "input_path": "__notebook__.ipynb",
   "output_path": "__notebook__.ipynb",
   "parameters": {},
   "start_time": "2024-10-09T23:24:14.151222",
   "version": "2.6.0"
  }
 },
 "nbformat": 4,
 "nbformat_minor": 5
}
